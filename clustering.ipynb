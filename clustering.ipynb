{
 "cells": [
  {
   "cell_type": "markdown",
   "metadata": {},
   "source": [
    "# Clustering"
   ]
  },
  {
   "cell_type": "code",
   "execution_count": 1,
   "metadata": {},
   "outputs": [],
   "source": [
    "import numpy as np\n",
    "import pandas as pd\n",
    "\n",
    "import matplotlib.pyplot as plt\n",
    "\n",
    "import warnings\n",
    "warnings.filterwarnings('ignore')\n",
    "\n",
    "from sklearn.cluster import KMeans\n",
    "from sklearn.cluster import DBSCAN\n",
    "\n",
    "from sklearn.preprocessing import MinMaxScaler\n",
    "from sklearn.preprocessing import StandardScaler"
   ]
  },
  {
   "cell_type": "markdown",
   "metadata": {},
   "source": [
    "#### 1. Carregar dados"
   ]
  },
  {
   "cell_type": "code",
   "execution_count": 2,
   "metadata": {},
   "outputs": [
    {
     "data": {
      "text/html": [
       "<div>\n",
       "<style scoped>\n",
       "    .dataframe tbody tr th:only-of-type {\n",
       "        vertical-align: middle;\n",
       "    }\n",
       "\n",
       "    .dataframe tbody tr th {\n",
       "        vertical-align: top;\n",
       "    }\n",
       "\n",
       "    .dataframe thead th {\n",
       "        text-align: right;\n",
       "    }\n",
       "</style>\n",
       "<table border=\"1\" class=\"dataframe\">\n",
       "  <thead>\n",
       "    <tr style=\"text-align: right;\">\n",
       "      <th></th>\n",
       "      <th>ID</th>\n",
       "      <th>Total LTD Orders</th>\n",
       "      <th>Total 24 Month Orders</th>\n",
       "      <th>Number of Divisns w/ Purchase</th>\n",
       "      <th>Number of Credit Cards Used</th>\n",
       "      <th>Customer Gender</th>\n",
       "      <th>Different Day/Night Phone (yes=1)</th>\n",
       "      <th>Dwelling Type Indicator</th>\n",
       "      <th>Overall RFM Points</th>\n",
       "      <th>First Purch Mail Order (yes=1)</th>\n",
       "    </tr>\n",
       "  </thead>\n",
       "  <tbody>\n",
       "    <tr>\n",
       "      <th>0</th>\n",
       "      <td>53005</td>\n",
       "      <td>1</td>\n",
       "      <td>1</td>\n",
       "      <td>1</td>\n",
       "      <td>1</td>\n",
       "      <td>1</td>\n",
       "      <td>1</td>\n",
       "      <td>1</td>\n",
       "      <td>28</td>\n",
       "      <td>0</td>\n",
       "    </tr>\n",
       "    <tr>\n",
       "      <th>1</th>\n",
       "      <td>53006</td>\n",
       "      <td>1</td>\n",
       "      <td>1</td>\n",
       "      <td>1</td>\n",
       "      <td>0</td>\n",
       "      <td>1</td>\n",
       "      <td>0</td>\n",
       "      <td>1</td>\n",
       "      <td>27</td>\n",
       "      <td>1</td>\n",
       "    </tr>\n",
       "    <tr>\n",
       "      <th>2</th>\n",
       "      <td>53007</td>\n",
       "      <td>1</td>\n",
       "      <td>1</td>\n",
       "      <td>1</td>\n",
       "      <td>1</td>\n",
       "      <td>1</td>\n",
       "      <td>0</td>\n",
       "      <td>1</td>\n",
       "      <td>28</td>\n",
       "      <td>0</td>\n",
       "    </tr>\n",
       "    <tr>\n",
       "      <th>3</th>\n",
       "      <td>53008</td>\n",
       "      <td>2</td>\n",
       "      <td>2</td>\n",
       "      <td>1</td>\n",
       "      <td>1</td>\n",
       "      <td>1</td>\n",
       "      <td>0</td>\n",
       "      <td>1</td>\n",
       "      <td>30</td>\n",
       "      <td>0</td>\n",
       "    </tr>\n",
       "    <tr>\n",
       "      <th>4</th>\n",
       "      <td>53009</td>\n",
       "      <td>1</td>\n",
       "      <td>1</td>\n",
       "      <td>1</td>\n",
       "      <td>1</td>\n",
       "      <td>0</td>\n",
       "      <td>0</td>\n",
       "      <td>1</td>\n",
       "      <td>26</td>\n",
       "      <td>0</td>\n",
       "    </tr>\n",
       "  </tbody>\n",
       "</table>\n",
       "</div>"
      ],
      "text/plain": [
       "      ID  Total LTD Orders  Total 24 Month Orders  \\\n",
       "0  53005                 1                      1   \n",
       "1  53006                 1                      1   \n",
       "2  53007                 1                      1   \n",
       "3  53008                 2                      2   \n",
       "4  53009                 1                      1   \n",
       "\n",
       "   Number of Divisns w/ Purchase  Number of Credit Cards Used  \\\n",
       "0                              1                            1   \n",
       "1                              1                            0   \n",
       "2                              1                            1   \n",
       "3                              1                            1   \n",
       "4                              1                            1   \n",
       "\n",
       "   Customer Gender  Different Day/Night Phone (yes=1)  \\\n",
       "0                1                                  1   \n",
       "1                1                                  0   \n",
       "2                1                                  0   \n",
       "3                1                                  0   \n",
       "4                0                                  0   \n",
       "\n",
       "   Dwelling Type Indicator  Overall RFM Points  First Purch Mail Order (yes=1)  \n",
       "0                        1                  28                               0  \n",
       "1                        1                  27                               1  \n",
       "2                        1                  28                               0  \n",
       "3                        1                  30                               0  \n",
       "4                        1                  26                               0  "
      ]
     },
     "execution_count": 2,
     "metadata": {},
     "output_type": "execute_result"
    }
   ],
   "source": [
    "df = pd.read_excel(\"./data/L01-data-first projects.xlsx\", sheet_name='catalog', usecols='A:J')\n",
    "\n",
    "df.head()"
   ]
  },
  {
   "cell_type": "code",
   "execution_count": 3,
   "metadata": {},
   "outputs": [
    {
     "data": {
      "text/html": [
       "<div>\n",
       "<style scoped>\n",
       "    .dataframe tbody tr th:only-of-type {\n",
       "        vertical-align: middle;\n",
       "    }\n",
       "\n",
       "    .dataframe tbody tr th {\n",
       "        vertical-align: top;\n",
       "    }\n",
       "\n",
       "    .dataframe thead th {\n",
       "        text-align: right;\n",
       "    }\n",
       "</style>\n",
       "<table border=\"1\" class=\"dataframe\">\n",
       "  <thead>\n",
       "    <tr style=\"text-align: right;\">\n",
       "      <th></th>\n",
       "      <th>ID</th>\n",
       "      <th>Total LTD Orders</th>\n",
       "      <th>Total 24 Month Orders</th>\n",
       "      <th>Number of Divisns w/ Purchase</th>\n",
       "      <th>Number of Credit Cards Used</th>\n",
       "      <th>Customer Gender</th>\n",
       "      <th>Different Day/Night Phone (yes=1)</th>\n",
       "      <th>Dwelling Type Indicator</th>\n",
       "      <th>Overall RFM Points</th>\n",
       "      <th>First Purch Mail Order (yes=1)</th>\n",
       "    </tr>\n",
       "  </thead>\n",
       "  <tbody>\n",
       "    <tr>\n",
       "      <th>5124</th>\n",
       "      <td>58129</td>\n",
       "      <td>20</td>\n",
       "      <td>11</td>\n",
       "      <td>6</td>\n",
       "      <td>2</td>\n",
       "      <td>1</td>\n",
       "      <td>0</td>\n",
       "      <td>1</td>\n",
       "      <td>23</td>\n",
       "      <td>0</td>\n",
       "    </tr>\n",
       "    <tr>\n",
       "      <th>5125</th>\n",
       "      <td>58130</td>\n",
       "      <td>5</td>\n",
       "      <td>1</td>\n",
       "      <td>3</td>\n",
       "      <td>1</td>\n",
       "      <td>1</td>\n",
       "      <td>0</td>\n",
       "      <td>1</td>\n",
       "      <td>7</td>\n",
       "      <td>0</td>\n",
       "    </tr>\n",
       "    <tr>\n",
       "      <th>5126</th>\n",
       "      <td>58131</td>\n",
       "      <td>6</td>\n",
       "      <td>1</td>\n",
       "      <td>1</td>\n",
       "      <td>2</td>\n",
       "      <td>1</td>\n",
       "      <td>0</td>\n",
       "      <td>1</td>\n",
       "      <td>27</td>\n",
       "      <td>1</td>\n",
       "    </tr>\n",
       "    <tr>\n",
       "      <th>5127</th>\n",
       "      <td>58132</td>\n",
       "      <td>3</td>\n",
       "      <td>1</td>\n",
       "      <td>2</td>\n",
       "      <td>1</td>\n",
       "      <td>1</td>\n",
       "      <td>1</td>\n",
       "      <td>1</td>\n",
       "      <td>8</td>\n",
       "      <td>1</td>\n",
       "    </tr>\n",
       "    <tr>\n",
       "      <th>5128</th>\n",
       "      <td>58133</td>\n",
       "      <td>3</td>\n",
       "      <td>0</td>\n",
       "      <td>3</td>\n",
       "      <td>1</td>\n",
       "      <td>1</td>\n",
       "      <td>1</td>\n",
       "      <td>1</td>\n",
       "      <td>4</td>\n",
       "      <td>1</td>\n",
       "    </tr>\n",
       "  </tbody>\n",
       "</table>\n",
       "</div>"
      ],
      "text/plain": [
       "         ID  Total LTD Orders  Total 24 Month Orders  \\\n",
       "5124  58129                20                     11   \n",
       "5125  58130                 5                      1   \n",
       "5126  58131                 6                      1   \n",
       "5127  58132                 3                      1   \n",
       "5128  58133                 3                      0   \n",
       "\n",
       "      Number of Divisns w/ Purchase  Number of Credit Cards Used  \\\n",
       "5124                              6                            2   \n",
       "5125                              3                            1   \n",
       "5126                              1                            2   \n",
       "5127                              2                            1   \n",
       "5128                              3                            1   \n",
       "\n",
       "      Customer Gender  Different Day/Night Phone (yes=1)  \\\n",
       "5124                1                                  0   \n",
       "5125                1                                  0   \n",
       "5126                1                                  0   \n",
       "5127                1                                  1   \n",
       "5128                1                                  1   \n",
       "\n",
       "      Dwelling Type Indicator  Overall RFM Points  \\\n",
       "5124                        1                  23   \n",
       "5125                        1                   7   \n",
       "5126                        1                  27   \n",
       "5127                        1                   8   \n",
       "5128                        1                   4   \n",
       "\n",
       "      First Purch Mail Order (yes=1)  \n",
       "5124                               0  \n",
       "5125                               0  \n",
       "5126                               1  \n",
       "5127                               1  \n",
       "5128                               1  "
      ]
     },
     "execution_count": 3,
     "metadata": {},
     "output_type": "execute_result"
    }
   ],
   "source": [
    "df.tail()"
   ]
  },
  {
   "cell_type": "markdown",
   "metadata": {},
   "source": [
    "#### 2. Clustering com k-means (2 clusters)"
   ]
  },
  {
   "cell_type": "code",
   "execution_count": 4,
   "metadata": {},
   "outputs": [],
   "source": [
    "clustering = KMeans(n_clusters = 2, \n",
    "                    init = 'random', \n",
    "                    n_init = 10, \n",
    "                    max_iter = 100, \n",
    "                    random_state = 42)"
   ]
  },
  {
   "cell_type": "code",
   "execution_count": 5,
   "metadata": {},
   "outputs": [
    {
     "data": {
      "text/plain": [
       "10"
      ]
     },
     "execution_count": 5,
     "metadata": {},
     "output_type": "execute_result"
    }
   ],
   "source": [
    "len(df.columns)"
   ]
  },
  {
   "cell_type": "code",
   "execution_count": 6,
   "metadata": {},
   "outputs": [
    {
     "data": {
      "text/html": [
       "<div>\n",
       "<style scoped>\n",
       "    .dataframe tbody tr th:only-of-type {\n",
       "        vertical-align: middle;\n",
       "    }\n",
       "\n",
       "    .dataframe tbody tr th {\n",
       "        vertical-align: top;\n",
       "    }\n",
       "\n",
       "    .dataframe thead th {\n",
       "        text-align: right;\n",
       "    }\n",
       "</style>\n",
       "<table border=\"1\" class=\"dataframe\">\n",
       "  <thead>\n",
       "    <tr style=\"text-align: right;\">\n",
       "      <th></th>\n",
       "      <th>Total LTD Orders</th>\n",
       "      <th>Total 24 Month Orders</th>\n",
       "      <th>Number of Divisns w/ Purchase</th>\n",
       "      <th>Number of Credit Cards Used</th>\n",
       "      <th>Customer Gender</th>\n",
       "      <th>Different Day/Night Phone (yes=1)</th>\n",
       "      <th>Dwelling Type Indicator</th>\n",
       "      <th>Overall RFM Points</th>\n",
       "      <th>First Purch Mail Order (yes=1)</th>\n",
       "    </tr>\n",
       "  </thead>\n",
       "  <tbody>\n",
       "    <tr>\n",
       "      <th>0</th>\n",
       "      <td>1</td>\n",
       "      <td>1</td>\n",
       "      <td>1</td>\n",
       "      <td>1</td>\n",
       "      <td>1</td>\n",
       "      <td>1</td>\n",
       "      <td>1</td>\n",
       "      <td>28</td>\n",
       "      <td>0</td>\n",
       "    </tr>\n",
       "    <tr>\n",
       "      <th>1</th>\n",
       "      <td>1</td>\n",
       "      <td>1</td>\n",
       "      <td>1</td>\n",
       "      <td>0</td>\n",
       "      <td>1</td>\n",
       "      <td>0</td>\n",
       "      <td>1</td>\n",
       "      <td>27</td>\n",
       "      <td>1</td>\n",
       "    </tr>\n",
       "    <tr>\n",
       "      <th>2</th>\n",
       "      <td>1</td>\n",
       "      <td>1</td>\n",
       "      <td>1</td>\n",
       "      <td>1</td>\n",
       "      <td>1</td>\n",
       "      <td>0</td>\n",
       "      <td>1</td>\n",
       "      <td>28</td>\n",
       "      <td>0</td>\n",
       "    </tr>\n",
       "    <tr>\n",
       "      <th>3</th>\n",
       "      <td>2</td>\n",
       "      <td>2</td>\n",
       "      <td>1</td>\n",
       "      <td>1</td>\n",
       "      <td>1</td>\n",
       "      <td>0</td>\n",
       "      <td>1</td>\n",
       "      <td>30</td>\n",
       "      <td>0</td>\n",
       "    </tr>\n",
       "    <tr>\n",
       "      <th>4</th>\n",
       "      <td>1</td>\n",
       "      <td>1</td>\n",
       "      <td>1</td>\n",
       "      <td>1</td>\n",
       "      <td>0</td>\n",
       "      <td>0</td>\n",
       "      <td>1</td>\n",
       "      <td>26</td>\n",
       "      <td>0</td>\n",
       "    </tr>\n",
       "  </tbody>\n",
       "</table>\n",
       "</div>"
      ],
      "text/plain": [
       "   Total LTD Orders  Total 24 Month Orders  Number of Divisns w/ Purchase  \\\n",
       "0                 1                      1                              1   \n",
       "1                 1                      1                              1   \n",
       "2                 1                      1                              1   \n",
       "3                 2                      2                              1   \n",
       "4                 1                      1                              1   \n",
       "\n",
       "   Number of Credit Cards Used  Customer Gender  \\\n",
       "0                            1                1   \n",
       "1                            0                1   \n",
       "2                            1                1   \n",
       "3                            1                1   \n",
       "4                            1                0   \n",
       "\n",
       "   Different Day/Night Phone (yes=1)  Dwelling Type Indicator  \\\n",
       "0                                  1                        1   \n",
       "1                                  0                        1   \n",
       "2                                  0                        1   \n",
       "3                                  0                        1   \n",
       "4                                  0                        1   \n",
       "\n",
       "   Overall RFM Points  First Purch Mail Order (yes=1)  \n",
       "0                  28                               0  \n",
       "1                  27                               1  \n",
       "2                  28                               0  \n",
       "3                  30                               0  \n",
       "4                  26                               0  "
      ]
     },
     "execution_count": 6,
     "metadata": {},
     "output_type": "execute_result"
    }
   ],
   "source": [
    "# excluir ID\n",
    "\n",
    "df.iloc[:, 1:10].head()"
   ]
  },
  {
   "cell_type": "code",
   "execution_count": 7,
   "metadata": {},
   "outputs": [],
   "source": [
    "y_clust = clustering.fit_predict(df.iloc[:, 1:10])"
   ]
  },
  {
   "cell_type": "code",
   "execution_count": 8,
   "metadata": {},
   "outputs": [],
   "source": [
    "df['cluster'] = y_clust"
   ]
  },
  {
   "cell_type": "code",
   "execution_count": 9,
   "metadata": {},
   "outputs": [
    {
     "data": {
      "text/html": [
       "<div>\n",
       "<style scoped>\n",
       "    .dataframe tbody tr th:only-of-type {\n",
       "        vertical-align: middle;\n",
       "    }\n",
       "\n",
       "    .dataframe tbody tr th {\n",
       "        vertical-align: top;\n",
       "    }\n",
       "\n",
       "    .dataframe thead th {\n",
       "        text-align: right;\n",
       "    }\n",
       "</style>\n",
       "<table border=\"1\" class=\"dataframe\">\n",
       "  <thead>\n",
       "    <tr style=\"text-align: right;\">\n",
       "      <th></th>\n",
       "      <th>ID</th>\n",
       "      <th>Total LTD Orders</th>\n",
       "      <th>Total 24 Month Orders</th>\n",
       "      <th>Number of Divisns w/ Purchase</th>\n",
       "      <th>Number of Credit Cards Used</th>\n",
       "      <th>Customer Gender</th>\n",
       "      <th>Different Day/Night Phone (yes=1)</th>\n",
       "      <th>Dwelling Type Indicator</th>\n",
       "      <th>Overall RFM Points</th>\n",
       "      <th>First Purch Mail Order (yes=1)</th>\n",
       "      <th>cluster</th>\n",
       "    </tr>\n",
       "  </thead>\n",
       "  <tbody>\n",
       "    <tr>\n",
       "      <th>0</th>\n",
       "      <td>53005</td>\n",
       "      <td>1</td>\n",
       "      <td>1</td>\n",
       "      <td>1</td>\n",
       "      <td>1</td>\n",
       "      <td>1</td>\n",
       "      <td>1</td>\n",
       "      <td>1</td>\n",
       "      <td>28</td>\n",
       "      <td>0</td>\n",
       "      <td>1</td>\n",
       "    </tr>\n",
       "    <tr>\n",
       "      <th>1</th>\n",
       "      <td>53006</td>\n",
       "      <td>1</td>\n",
       "      <td>1</td>\n",
       "      <td>1</td>\n",
       "      <td>0</td>\n",
       "      <td>1</td>\n",
       "      <td>0</td>\n",
       "      <td>1</td>\n",
       "      <td>27</td>\n",
       "      <td>1</td>\n",
       "      <td>1</td>\n",
       "    </tr>\n",
       "    <tr>\n",
       "      <th>2</th>\n",
       "      <td>53007</td>\n",
       "      <td>1</td>\n",
       "      <td>1</td>\n",
       "      <td>1</td>\n",
       "      <td>1</td>\n",
       "      <td>1</td>\n",
       "      <td>0</td>\n",
       "      <td>1</td>\n",
       "      <td>28</td>\n",
       "      <td>0</td>\n",
       "      <td>1</td>\n",
       "    </tr>\n",
       "    <tr>\n",
       "      <th>3</th>\n",
       "      <td>53008</td>\n",
       "      <td>2</td>\n",
       "      <td>2</td>\n",
       "      <td>1</td>\n",
       "      <td>1</td>\n",
       "      <td>1</td>\n",
       "      <td>0</td>\n",
       "      <td>1</td>\n",
       "      <td>30</td>\n",
       "      <td>0</td>\n",
       "      <td>1</td>\n",
       "    </tr>\n",
       "    <tr>\n",
       "      <th>4</th>\n",
       "      <td>53009</td>\n",
       "      <td>1</td>\n",
       "      <td>1</td>\n",
       "      <td>1</td>\n",
       "      <td>1</td>\n",
       "      <td>0</td>\n",
       "      <td>0</td>\n",
       "      <td>1</td>\n",
       "      <td>26</td>\n",
       "      <td>0</td>\n",
       "      <td>1</td>\n",
       "    </tr>\n",
       "  </tbody>\n",
       "</table>\n",
       "</div>"
      ],
      "text/plain": [
       "      ID  Total LTD Orders  Total 24 Month Orders  \\\n",
       "0  53005                 1                      1   \n",
       "1  53006                 1                      1   \n",
       "2  53007                 1                      1   \n",
       "3  53008                 2                      2   \n",
       "4  53009                 1                      1   \n",
       "\n",
       "   Number of Divisns w/ Purchase  Number of Credit Cards Used  \\\n",
       "0                              1                            1   \n",
       "1                              1                            0   \n",
       "2                              1                            1   \n",
       "3                              1                            1   \n",
       "4                              1                            1   \n",
       "\n",
       "   Customer Gender  Different Day/Night Phone (yes=1)  \\\n",
       "0                1                                  1   \n",
       "1                1                                  0   \n",
       "2                1                                  0   \n",
       "3                1                                  0   \n",
       "4                0                                  0   \n",
       "\n",
       "   Dwelling Type Indicator  Overall RFM Points  \\\n",
       "0                        1                  28   \n",
       "1                        1                  27   \n",
       "2                        1                  28   \n",
       "3                        1                  30   \n",
       "4                        1                  26   \n",
       "\n",
       "   First Purch Mail Order (yes=1)  cluster  \n",
       "0                               0        1  \n",
       "1                               1        1  \n",
       "2                               0        1  \n",
       "3                               0        1  \n",
       "4                               0        1  "
      ]
     },
     "execution_count": 9,
     "metadata": {},
     "output_type": "execute_result"
    }
   ],
   "source": [
    "df.head()"
   ]
  },
  {
   "cell_type": "code",
   "execution_count": 10,
   "metadata": {},
   "outputs": [
    {
     "data": {
      "text/plain": [
       "1    3347\n",
       "0    1782\n",
       "Name: cluster, dtype: int64"
      ]
     },
     "execution_count": 10,
     "metadata": {},
     "output_type": "execute_result"
    }
   ],
   "source": [
    "df['cluster'].value_counts()"
   ]
  },
  {
   "cell_type": "markdown",
   "metadata": {},
   "source": [
    "É sempre difícil definir qual o melhor valor de `k`. Para tal, podemos usar a **\"regra do cotovelo\"** para avaliar quais os valores de `k` mais adequados."
   ]
  },
  {
   "cell_type": "markdown",
   "metadata": {},
   "source": [
    "Para além disso, no algoritmo **k-means clássico a inicialização dos centroides é feita de forma aleatória**. Alternativamente, podemos usar uma variante como o **k-means++**, que utiliza um método optimizado para a inicialização dos centroides."
   ]
  },
  {
   "cell_type": "markdown",
   "metadata": {},
   "source": [
    "#### 3. Determinar os melhores valores para o número de clusters, k, com a \"regra do cotovelo\""
   ]
  },
  {
   "cell_type": "code",
   "execution_count": 11,
   "metadata": {},
   "outputs": [
    {
     "data": {
      "text/plain": [
       "916047.0801734756"
      ]
     },
     "execution_count": 11,
     "metadata": {},
     "output_type": "execute_result"
    }
   ],
   "source": [
    "clustering.inertia_"
   ]
  },
  {
   "cell_type": "code",
   "execution_count": 12,
   "metadata": {},
   "outputs": [],
   "source": [
    "def elbow_method(k_max, algo, data):\n",
    "\n",
    "    distortions = []\n",
    "\n",
    "    for i in range(1, k_max+1):\n",
    "        clustering = KMeans(n_clusters = i, \n",
    "                            init = algo, \n",
    "                            n_init = 10, \n",
    "                            max_iter = 100, \n",
    "                            random_state = 42)\n",
    "\n",
    "        clustering.fit(data)\n",
    "        distortions.append(clustering.inertia_)\n",
    "        \n",
    "    return distortions"
   ]
  },
  {
   "cell_type": "code",
   "execution_count": 13,
   "metadata": {},
   "outputs": [
    {
     "data": {
      "text/plain": [
       "[2110427.6607525786,\n",
       " 916047.0801734756,\n",
       " 553909.4028317851,\n",
       " 409386.41281708237,\n",
       " 294348.1941352257,\n",
       " 251454.2986036821,\n",
       " 221610.2451886903,\n",
       " 193570.16800554088,\n",
       " 168803.1529942744,\n",
       " 149035.42442884925]"
      ]
     },
     "execution_count": 13,
     "metadata": {},
     "output_type": "execute_result"
    }
   ],
   "source": [
    "elbow_method(10, 'k-means++', df.iloc[:, 1:10])"
   ]
  },
  {
   "cell_type": "code",
   "execution_count": 14,
   "metadata": {},
   "outputs": [
    {
     "data": {
      "image/png": "[encoded data removed]",
      "text/plain": [
       "<Figure size 432x288 with 1 Axes>"
      ]
     },
     "metadata": {
      "needs_background": "light"
     },
     "output_type": "display_data"
    }
   ],
   "source": [
    "plt.plot(range(1,11), elbow_method(10, 'k-means++', df.iloc[:, 1:10]), marker = 'o')\n",
    "plt.xlabel('Number of clusters')\n",
    "plt.ylabel('Distortion (within-cluster SSE)');"
   ]
  },
  {
   "cell_type": "markdown",
   "metadata": {},
   "source": [
    "O \"cotovelo\" corresponderá ao valor de 3 ou 4 para `k`. Vamos usar `k=3`."
   ]
  },
  {
   "cell_type": "markdown",
   "metadata": {},
   "source": [
    "#### 4. Clustering com k-means (3 clusters)"
   ]
  },
  {
   "cell_type": "code",
   "execution_count": 15,
   "metadata": {},
   "outputs": [],
   "source": [
    "clustering = KMeans(n_clusters = 3, \n",
    "                    init = 'k-means++', \n",
    "                    n_init = 10, \n",
    "                    max_iter = 100, \n",
    "                    random_state = 42)"
   ]
  },
  {
   "cell_type": "code",
   "execution_count": 16,
   "metadata": {},
   "outputs": [],
   "source": [
    "y_clust = clustering.fit_predict(df.iloc[:, 1:10])"
   ]
  },
  {
   "cell_type": "code",
   "execution_count": 17,
   "metadata": {},
   "outputs": [],
   "source": [
    "df['cluster'] = y_clust"
   ]
  },
  {
   "cell_type": "code",
   "execution_count": 18,
   "metadata": {},
   "outputs": [
    {
     "data": {
      "text/plain": [
       "1    3323\n",
       "0    1467\n",
       "2     339\n",
       "Name: cluster, dtype: int64"
      ]
     },
     "execution_count": 18,
     "metadata": {},
     "output_type": "execute_result"
    }
   ],
   "source": [
    "df['cluster'].value_counts()"
   ]
  },
  {
   "cell_type": "code",
   "execution_count": 19,
   "metadata": {},
   "outputs": [
    {
     "data": {
      "text/html": [
       "<div>\n",
       "<style scoped>\n",
       "    .dataframe tbody tr th:only-of-type {\n",
       "        vertical-align: middle;\n",
       "    }\n",
       "\n",
       "    .dataframe tbody tr th {\n",
       "        vertical-align: top;\n",
       "    }\n",
       "\n",
       "    .dataframe thead th {\n",
       "        text-align: right;\n",
       "    }\n",
       "</style>\n",
       "<table border=\"1\" class=\"dataframe\">\n",
       "  <thead>\n",
       "    <tr style=\"text-align: right;\">\n",
       "      <th></th>\n",
       "      <th>ID</th>\n",
       "      <th>Total LTD Orders</th>\n",
       "      <th>Total 24 Month Orders</th>\n",
       "      <th>Number of Divisns w/ Purchase</th>\n",
       "      <th>Number of Credit Cards Used</th>\n",
       "      <th>Customer Gender</th>\n",
       "      <th>Different Day/Night Phone (yes=1)</th>\n",
       "      <th>Dwelling Type Indicator</th>\n",
       "      <th>Overall RFM Points</th>\n",
       "      <th>First Purch Mail Order (yes=1)</th>\n",
       "      <th>cluster</th>\n",
       "    </tr>\n",
       "  </thead>\n",
       "  <tbody>\n",
       "    <tr>\n",
       "      <th>3153</th>\n",
       "      <td>56158</td>\n",
       "      <td>30</td>\n",
       "      <td>0</td>\n",
       "      <td>14</td>\n",
       "      <td>2</td>\n",
       "      <td>0</td>\n",
       "      <td>1</td>\n",
       "      <td>1</td>\n",
       "      <td>8</td>\n",
       "      <td>1</td>\n",
       "      <td>0</td>\n",
       "    </tr>\n",
       "    <tr>\n",
       "      <th>3154</th>\n",
       "      <td>56159</td>\n",
       "      <td>9</td>\n",
       "      <td>5</td>\n",
       "      <td>4</td>\n",
       "      <td>3</td>\n",
       "      <td>1</td>\n",
       "      <td>0</td>\n",
       "      <td>1</td>\n",
       "      <td>20</td>\n",
       "      <td>1</td>\n",
       "      <td>0</td>\n",
       "    </tr>\n",
       "    <tr>\n",
       "      <th>3155</th>\n",
       "      <td>56160</td>\n",
       "      <td>2</td>\n",
       "      <td>1</td>\n",
       "      <td>2</td>\n",
       "      <td>1</td>\n",
       "      <td>1</td>\n",
       "      <td>0</td>\n",
       "      <td>1</td>\n",
       "      <td>2</td>\n",
       "      <td>1</td>\n",
       "      <td>0</td>\n",
       "    </tr>\n",
       "    <tr>\n",
       "      <th>3156</th>\n",
       "      <td>56161</td>\n",
       "      <td>8</td>\n",
       "      <td>1</td>\n",
       "      <td>4</td>\n",
       "      <td>2</td>\n",
       "      <td>1</td>\n",
       "      <td>0</td>\n",
       "      <td>1</td>\n",
       "      <td>8</td>\n",
       "      <td>1</td>\n",
       "      <td>0</td>\n",
       "    </tr>\n",
       "    <tr>\n",
       "      <th>3158</th>\n",
       "      <td>56163</td>\n",
       "      <td>25</td>\n",
       "      <td>0</td>\n",
       "      <td>14</td>\n",
       "      <td>1</td>\n",
       "      <td>1</td>\n",
       "      <td>0</td>\n",
       "      <td>1</td>\n",
       "      <td>6</td>\n",
       "      <td>1</td>\n",
       "      <td>0</td>\n",
       "    </tr>\n",
       "    <tr>\n",
       "      <th>...</th>\n",
       "      <td>...</td>\n",
       "      <td>...</td>\n",
       "      <td>...</td>\n",
       "      <td>...</td>\n",
       "      <td>...</td>\n",
       "      <td>...</td>\n",
       "      <td>...</td>\n",
       "      <td>...</td>\n",
       "      <td>...</td>\n",
       "      <td>...</td>\n",
       "      <td>...</td>\n",
       "    </tr>\n",
       "    <tr>\n",
       "      <th>5123</th>\n",
       "      <td>58128</td>\n",
       "      <td>4</td>\n",
       "      <td>1</td>\n",
       "      <td>1</td>\n",
       "      <td>1</td>\n",
       "      <td>1</td>\n",
       "      <td>0</td>\n",
       "      <td>1</td>\n",
       "      <td>19</td>\n",
       "      <td>0</td>\n",
       "      <td>0</td>\n",
       "    </tr>\n",
       "    <tr>\n",
       "      <th>5124</th>\n",
       "      <td>58129</td>\n",
       "      <td>20</td>\n",
       "      <td>11</td>\n",
       "      <td>6</td>\n",
       "      <td>2</td>\n",
       "      <td>1</td>\n",
       "      <td>0</td>\n",
       "      <td>1</td>\n",
       "      <td>23</td>\n",
       "      <td>0</td>\n",
       "      <td>0</td>\n",
       "    </tr>\n",
       "    <tr>\n",
       "      <th>5125</th>\n",
       "      <td>58130</td>\n",
       "      <td>5</td>\n",
       "      <td>1</td>\n",
       "      <td>3</td>\n",
       "      <td>1</td>\n",
       "      <td>1</td>\n",
       "      <td>0</td>\n",
       "      <td>1</td>\n",
       "      <td>7</td>\n",
       "      <td>0</td>\n",
       "      <td>0</td>\n",
       "    </tr>\n",
       "    <tr>\n",
       "      <th>5127</th>\n",
       "      <td>58132</td>\n",
       "      <td>3</td>\n",
       "      <td>1</td>\n",
       "      <td>2</td>\n",
       "      <td>1</td>\n",
       "      <td>1</td>\n",
       "      <td>1</td>\n",
       "      <td>1</td>\n",
       "      <td>8</td>\n",
       "      <td>1</td>\n",
       "      <td>0</td>\n",
       "    </tr>\n",
       "    <tr>\n",
       "      <th>5128</th>\n",
       "      <td>58133</td>\n",
       "      <td>3</td>\n",
       "      <td>0</td>\n",
       "      <td>3</td>\n",
       "      <td>1</td>\n",
       "      <td>1</td>\n",
       "      <td>1</td>\n",
       "      <td>1</td>\n",
       "      <td>4</td>\n",
       "      <td>1</td>\n",
       "      <td>0</td>\n",
       "    </tr>\n",
       "  </tbody>\n",
       "</table>\n",
       "<p>1467 rows × 11 columns</p>\n",
       "</div>"
      ],
      "text/plain": [
       "         ID  Total LTD Orders  Total 24 Month Orders  \\\n",
       "3153  56158                30                      0   \n",
       "3154  56159                 9                      5   \n",
       "3155  56160                 2                      1   \n",
       "3156  56161                 8                      1   \n",
       "3158  56163                25                      0   \n",
       "...     ...               ...                    ...   \n",
       "5123  58128                 4                      1   \n",
       "5124  58129                20                     11   \n",
       "5125  58130                 5                      1   \n",
       "5127  58132                 3                      1   \n",
       "5128  58133                 3                      0   \n",
       "\n",
       "      Number of Divisns w/ Purchase  Number of Credit Cards Used  \\\n",
       "3153                             14                            2   \n",
       "3154                              4                            3   \n",
       "3155                              2                            1   \n",
       "3156                              4                            2   \n",
       "3158                             14                            1   \n",
       "...                             ...                          ...   \n",
       "5123                              1                            1   \n",
       "5124                              6                            2   \n",
       "5125                              3                            1   \n",
       "5127                              2                            1   \n",
       "5128                              3                            1   \n",
       "\n",
       "      Customer Gender  Different Day/Night Phone (yes=1)  \\\n",
       "3153                0                                  1   \n",
       "3154                1                                  0   \n",
       "3155                1                                  0   \n",
       "3156                1                                  0   \n",
       "3158                1                                  0   \n",
       "...               ...                                ...   \n",
       "5123                1                                  0   \n",
       "5124                1                                  0   \n",
       "5125                1                                  0   \n",
       "5127                1                                  1   \n",
       "5128                1                                  1   \n",
       "\n",
       "      Dwelling Type Indicator  Overall RFM Points  \\\n",
       "3153                        1                   8   \n",
       "3154                        1                  20   \n",
       "3155                        1                   2   \n",
       "3156                        1                   8   \n",
       "3158                        1                   6   \n",
       "...                       ...                 ...   \n",
       "5123                        1                  19   \n",
       "5124                        1                  23   \n",
       "5125                        1                   7   \n",
       "5127                        1                   8   \n",
       "5128                        1                   4   \n",
       "\n",
       "      First Purch Mail Order (yes=1)  cluster  \n",
       "3153                               1        0  \n",
       "3154                               1        0  \n",
       "3155                               1        0  \n",
       "3156                               1        0  \n",
       "3158                               1        0  \n",
       "...                              ...      ...  \n",
       "5123                               0        0  \n",
       "5124                               0        0  \n",
       "5125                               0        0  \n",
       "5127                               1        0  \n",
       "5128                               1        0  \n",
       "\n",
       "[1467 rows x 11 columns]"
      ]
     },
     "execution_count": 19,
     "metadata": {},
     "output_type": "execute_result"
    }
   ],
   "source": [
    "df[df['cluster'] == 0]"
   ]
  },
  {
   "cell_type": "code",
   "execution_count": 20,
   "metadata": {},
   "outputs": [
    {
     "data": {
      "text/plain": [
       "Total LTD Orders                     12.642127\n",
       "Total 24 Month Orders                 2.012952\n",
       "Number of Divisns w/ Purchase         4.831629\n",
       "Number of Credit Cards Used           1.871847\n",
       "Customer Gender                       0.873211\n",
       "Different Day/Night Phone (yes=1)     0.341513\n",
       "Dwelling Type Indicator               0.915474\n",
       "Overall RFM Points                   13.462168\n",
       "First Purch Mail Order (yes=1)        0.775733\n",
       "dtype: float64"
      ]
     },
     "execution_count": 20,
     "metadata": {},
     "output_type": "execute_result"
    }
   ],
   "source": [
    "df.iloc[:, 1:10][df['cluster'] == 0].mean()"
   ]
  },
  {
   "cell_type": "code",
   "execution_count": 21,
   "metadata": {},
   "outputs": [
    {
     "data": {
      "text/plain": [
       "Total LTD Orders                      1.661751\n",
       "Total 24 Month Orders                 1.334336\n",
       "Number of Divisns w/ Purchase         1.083057\n",
       "Number of Credit Cards Used           0.937707\n",
       "Customer Gender                       0.885044\n",
       "Different Day/Night Phone (yes=1)     0.263617\n",
       "Dwelling Type Indicator               0.998194\n",
       "Overall RFM Points                   40.552814\n",
       "First Purch Mail Order (yes=1)        0.187481\n",
       "dtype: float64"
      ]
     },
     "execution_count": 21,
     "metadata": {},
     "output_type": "execute_result"
    }
   ],
   "source": [
    "df.iloc[:, 1:10][df['cluster'] == 1].mean()"
   ]
  },
  {
   "cell_type": "code",
   "execution_count": 22,
   "metadata": {},
   "outputs": [
    {
     "data": {
      "text/plain": [
       "Total LTD Orders                     47.489676\n",
       "Total 24 Month Orders                 7.802360\n",
       "Number of Divisns w/ Purchase        11.828909\n",
       "Number of Credit Cards Used           2.227139\n",
       "Customer Gender                       0.884956\n",
       "Different Day/Night Phone (yes=1)     0.303835\n",
       "Dwelling Type Indicator               0.917404\n",
       "Overall RFM Points                   18.719764\n",
       "First Purch Mail Order (yes=1)        0.876106\n",
       "dtype: float64"
      ]
     },
     "execution_count": 22,
     "metadata": {},
     "output_type": "execute_result"
    }
   ],
   "source": [
    "df.iloc[:, 1:10][df['cluster'] == 2].mean()"
   ]
  },
  {
   "cell_type": "markdown",
   "metadata": {},
   "source": [
    "#### 5. Análise gráfica dos valores médios das variáveis para cada cluster"
   ]
  },
  {
   "cell_type": "code",
   "execution_count": 23,
   "metadata": {},
   "outputs": [
    {
     "data": {
      "text/plain": [
       "['Total LTD Order',\n",
       " 'Total 24 Month ',\n",
       " 'Number of Divis',\n",
       " 'Number of Credi',\n",
       " 'Customer Gender',\n",
       " 'Different Day/N',\n",
       " 'Dwelling Type I',\n",
       " 'Overall RFM Poi',\n",
       " 'First Purch Mai']"
      ]
     },
     "execution_count": 23,
     "metadata": {},
     "output_type": "execute_result"
    }
   ],
   "source": [
    "# reduzir o nome das variáveis aos seus primeiros 15 caracteres\n",
    "\n",
    "xlabels = []\n",
    "\n",
    "for value in df.columns[1:10]:\n",
    "    xlabels.append(value[0:15])\n",
    "\n",
    "xlabels"
   ]
  },
  {
   "cell_type": "code",
   "execution_count": 24,
   "metadata": {},
   "outputs": [
    {
     "data": {
      "image/png": "[encoded data removed]",
      "text/plain": [
       "<Figure size 720x432 with 1 Axes>"
      ]
     },
     "metadata": {
      "needs_background": "light"
     },
     "output_type": "display_data"
    }
   ],
   "source": [
    "plt.figure(figsize=(10,6))\n",
    "plt.plot(df.iloc[:, 1:10][df['cluster']==0].mean(), label='cluster 0')\n",
    "plt.plot(df.iloc[:, 1:10][df['cluster']==1].mean(), label='cluster 1')\n",
    "plt.plot(df.iloc[:, 1:10][df['cluster']==2].mean(), label='cluster 2')\n",
    "\n",
    "plt.xticks(np.arange(9), xlabels, rotation=90)\n",
    "plt.legend(loc=1);"
   ]
  },
  {
   "cell_type": "markdown",
   "metadata": {},
   "source": [
    "Aparentemente, os nossos 3 clusters apresentam as seguintes características:\n",
    "\n",
    "* cluster 0: valores intermédios para o total de encomendas e número de departamentos e valores baixos para o total de encomendas nos últimos 24 meses e para os pontos RFM;\n",
    "* cluster 1: valor alto para os pontos RFM e valores baixos para todos os outros\n",
    "* cluster 2: valores altos para o total de encomendas, o total de encomendas nos últimos 24 meses e o número de departamentos, e valor intermédio para os pontos RFM"
   ]
  },
  {
   "cell_type": "markdown",
   "metadata": {},
   "source": [
    "No entanto, como podemos observar, as variáveis em que o intervalo de valores numéricos é maior são aquelas que apresentam maior preponderância para a definição dos clusters. Como o algoritmo k-means se baseia na distância euclidiana entre pontos, era de esperar que tal acontecesse.\n",
    "\n",
    "Para evitar que tal aconteça, devemos certificar-nos que todas as **variáveis são representadas na mesma escala**."
   ]
  },
  {
   "cell_type": "markdown",
   "metadata": {},
   "source": [
    "#### 6. Normalizing features (min=0 e max=1)"
   ]
  },
  {
   "cell_type": "code",
   "execution_count": 25,
   "metadata": {},
   "outputs": [
    {
     "data": {
      "text/html": [
       "<div>\n",
       "<style scoped>\n",
       "    .dataframe tbody tr th:only-of-type {\n",
       "        vertical-align: middle;\n",
       "    }\n",
       "\n",
       "    .dataframe tbody tr th {\n",
       "        vertical-align: top;\n",
       "    }\n",
       "\n",
       "    .dataframe thead th {\n",
       "        text-align: right;\n",
       "    }\n",
       "</style>\n",
       "<table border=\"1\" class=\"dataframe\">\n",
       "  <thead>\n",
       "    <tr style=\"text-align: right;\">\n",
       "      <th></th>\n",
       "      <th>ID</th>\n",
       "      <th>Total LTD Orders</th>\n",
       "      <th>Total 24 Month Orders</th>\n",
       "      <th>Number of Divisns w/ Purchase</th>\n",
       "      <th>Number of Credit Cards Used</th>\n",
       "      <th>Customer Gender</th>\n",
       "      <th>Different Day/Night Phone (yes=1)</th>\n",
       "      <th>Dwelling Type Indicator</th>\n",
       "      <th>Overall RFM Points</th>\n",
       "      <th>First Purch Mail Order (yes=1)</th>\n",
       "      <th>cluster</th>\n",
       "    </tr>\n",
       "  </thead>\n",
       "  <tbody>\n",
       "    <tr>\n",
       "      <th>count</th>\n",
       "      <td>5129.000000</td>\n",
       "      <td>5129.000000</td>\n",
       "      <td>5129.000000</td>\n",
       "      <td>5129.000000</td>\n",
       "      <td>5129.000000</td>\n",
       "      <td>5129.000000</td>\n",
       "      <td>5129.000000</td>\n",
       "      <td>5129.000000</td>\n",
       "      <td>5129.000000</td>\n",
       "      <td>5129.000000</td>\n",
       "      <td>5129.000000</td>\n",
       "    </tr>\n",
       "    <tr>\n",
       "      <th>mean</th>\n",
       "      <td>55569.000000</td>\n",
       "      <td>7.831351</td>\n",
       "      <td>1.955937</td>\n",
       "      <td>2.865471</td>\n",
       "      <td>1.290115</td>\n",
       "      <td>0.881653</td>\n",
       "      <td>0.288555</td>\n",
       "      <td>0.969195</td>\n",
       "      <td>31.361279</td>\n",
       "      <td>0.401248</td>\n",
       "      <td>0.780074</td>\n",
       "    </tr>\n",
       "    <tr>\n",
       "      <th>std</th>\n",
       "      <td>1480.759096</td>\n",
       "      <td>13.441103</td>\n",
       "      <td>2.730413</td>\n",
       "      <td>3.387229</td>\n",
       "      <td>0.846935</td>\n",
       "      <td>0.323050</td>\n",
       "      <td>0.453135</td>\n",
       "      <td>0.172806</td>\n",
       "      <td>14.514165</td>\n",
       "      <td>0.490199</td>\n",
       "      <td>0.551187</td>\n",
       "    </tr>\n",
       "    <tr>\n",
       "      <th>min</th>\n",
       "      <td>53005.000000</td>\n",
       "      <td>1.000000</td>\n",
       "      <td>0.000000</td>\n",
       "      <td>1.000000</td>\n",
       "      <td>0.000000</td>\n",
       "      <td>0.000000</td>\n",
       "      <td>0.000000</td>\n",
       "      <td>0.000000</td>\n",
       "      <td>2.000000</td>\n",
       "      <td>0.000000</td>\n",
       "      <td>0.000000</td>\n",
       "    </tr>\n",
       "    <tr>\n",
       "      <th>25%</th>\n",
       "      <td>54287.000000</td>\n",
       "      <td>1.000000</td>\n",
       "      <td>1.000000</td>\n",
       "      <td>1.000000</td>\n",
       "      <td>1.000000</td>\n",
       "      <td>1.000000</td>\n",
       "      <td>0.000000</td>\n",
       "      <td>1.000000</td>\n",
       "      <td>18.000000</td>\n",
       "      <td>0.000000</td>\n",
       "      <td>0.000000</td>\n",
       "    </tr>\n",
       "    <tr>\n",
       "      <th>50%</th>\n",
       "      <td>55569.000000</td>\n",
       "      <td>1.000000</td>\n",
       "      <td>1.000000</td>\n",
       "      <td>1.000000</td>\n",
       "      <td>1.000000</td>\n",
       "      <td>1.000000</td>\n",
       "      <td>0.000000</td>\n",
       "      <td>1.000000</td>\n",
       "      <td>35.000000</td>\n",
       "      <td>0.000000</td>\n",
       "      <td>1.000000</td>\n",
       "    </tr>\n",
       "    <tr>\n",
       "      <th>75%</th>\n",
       "      <td>56851.000000</td>\n",
       "      <td>10.000000</td>\n",
       "      <td>2.000000</td>\n",
       "      <td>4.000000</td>\n",
       "      <td>1.000000</td>\n",
       "      <td>1.000000</td>\n",
       "      <td>1.000000</td>\n",
       "      <td>1.000000</td>\n",
       "      <td>43.000000</td>\n",
       "      <td>1.000000</td>\n",
       "      <td>1.000000</td>\n",
       "    </tr>\n",
       "    <tr>\n",
       "      <th>max</th>\n",
       "      <td>58133.000000</td>\n",
       "      <td>169.000000</td>\n",
       "      <td>57.000000</td>\n",
       "      <td>28.000000</td>\n",
       "      <td>6.000000</td>\n",
       "      <td>1.000000</td>\n",
       "      <td>1.000000</td>\n",
       "      <td>1.000000</td>\n",
       "      <td>75.000000</td>\n",
       "      <td>1.000000</td>\n",
       "      <td>2.000000</td>\n",
       "    </tr>\n",
       "  </tbody>\n",
       "</table>\n",
       "</div>"
      ],
      "text/plain": [
       "                 ID  Total LTD Orders  Total 24 Month Orders  \\\n",
       "count   5129.000000       5129.000000            5129.000000   \n",
       "mean   55569.000000          7.831351               1.955937   \n",
       "std     1480.759096         13.441103               2.730413   \n",
       "min    53005.000000          1.000000               0.000000   \n",
       "25%    54287.000000          1.000000               1.000000   \n",
       "50%    55569.000000          1.000000               1.000000   \n",
       "75%    56851.000000         10.000000               2.000000   \n",
       "max    58133.000000        169.000000              57.000000   \n",
       "\n",
       "       Number of Divisns w/ Purchase  Number of Credit Cards Used  \\\n",
       "count                    5129.000000                  5129.000000   \n",
       "mean                        2.865471                     1.290115   \n",
       "std                         3.387229                     0.846935   \n",
       "min                         1.000000                     0.000000   \n",
       "25%                         1.000000                     1.000000   \n",
       "50%                         1.000000                     1.000000   \n",
       "75%                         4.000000                     1.000000   \n",
       "max                        28.000000                     6.000000   \n",
       "\n",
       "       Customer Gender  Different Day/Night Phone (yes=1)  \\\n",
       "count      5129.000000                        5129.000000   \n",
       "mean          0.881653                           0.288555   \n",
       "std           0.323050                           0.453135   \n",
       "min           0.000000                           0.000000   \n",
       "25%           1.000000                           0.000000   \n",
       "50%           1.000000                           0.000000   \n",
       "75%           1.000000                           1.000000   \n",
       "max           1.000000                           1.000000   \n",
       "\n",
       "       Dwelling Type Indicator  Overall RFM Points  \\\n",
       "count              5129.000000         5129.000000   \n",
       "mean                  0.969195           31.361279   \n",
       "std                   0.172806           14.514165   \n",
       "min                   0.000000            2.000000   \n",
       "25%                   1.000000           18.000000   \n",
       "50%                   1.000000           35.000000   \n",
       "75%                   1.000000           43.000000   \n",
       "max                   1.000000           75.000000   \n",
       "\n",
       "       First Purch Mail Order (yes=1)      cluster  \n",
       "count                     5129.000000  5129.000000  \n",
       "mean                         0.401248     0.780074  \n",
       "std                          0.490199     0.551187  \n",
       "min                          0.000000     0.000000  \n",
       "25%                          0.000000     0.000000  \n",
       "50%                          0.000000     1.000000  \n",
       "75%                          1.000000     1.000000  \n",
       "max                          1.000000     2.000000  "
      ]
     },
     "execution_count": 25,
     "metadata": {},
     "output_type": "execute_result"
    }
   ],
   "source": [
    "df.describe()"
   ]
  },
  {
   "cell_type": "code",
   "execution_count": 26,
   "metadata": {},
   "outputs": [
    {
     "data": {
      "text/plain": [
       "Index(['ID', 'Total LTD Orders', 'Total 24 Month Orders',\n",
       "       'Number of Divisns w/ Purchase', 'Number of Credit Cards Used',\n",
       "       'Customer Gender', 'Different Day/Night Phone (yes=1)',\n",
       "       'Dwelling Type Indicator', 'Overall RFM Points',\n",
       "       'First Purch Mail Order (yes=1)', 'cluster'],\n",
       "      dtype='object')"
      ]
     },
     "execution_count": 26,
     "metadata": {},
     "output_type": "execute_result"
    }
   ],
   "source": [
    "df.columns"
   ]
  },
  {
   "cell_type": "code",
   "execution_count": 27,
   "metadata": {},
   "outputs": [],
   "source": [
    "df_normalized = df.copy()"
   ]
  },
  {
   "cell_type": "code",
   "execution_count": 28,
   "metadata": {},
   "outputs": [
    {
     "data": {
      "text/html": [
       "<div>\n",
       "<style scoped>\n",
       "    .dataframe tbody tr th:only-of-type {\n",
       "        vertical-align: middle;\n",
       "    }\n",
       "\n",
       "    .dataframe tbody tr th {\n",
       "        vertical-align: top;\n",
       "    }\n",
       "\n",
       "    .dataframe thead th {\n",
       "        text-align: right;\n",
       "    }\n",
       "</style>\n",
       "<table border=\"1\" class=\"dataframe\">\n",
       "  <thead>\n",
       "    <tr style=\"text-align: right;\">\n",
       "      <th></th>\n",
       "      <th>ID</th>\n",
       "      <th>Total LTD Orders</th>\n",
       "      <th>Total 24 Month Orders</th>\n",
       "      <th>Number of Divisns w/ Purchase</th>\n",
       "      <th>Number of Credit Cards Used</th>\n",
       "      <th>Customer Gender</th>\n",
       "      <th>Different Day/Night Phone (yes=1)</th>\n",
       "      <th>Dwelling Type Indicator</th>\n",
       "      <th>Overall RFM Points</th>\n",
       "      <th>First Purch Mail Order (yes=1)</th>\n",
       "      <th>cluster</th>\n",
       "    </tr>\n",
       "  </thead>\n",
       "  <tbody>\n",
       "    <tr>\n",
       "      <th>0</th>\n",
       "      <td>53005</td>\n",
       "      <td>1</td>\n",
       "      <td>1</td>\n",
       "      <td>1</td>\n",
       "      <td>1</td>\n",
       "      <td>1</td>\n",
       "      <td>1</td>\n",
       "      <td>1</td>\n",
       "      <td>28</td>\n",
       "      <td>0</td>\n",
       "      <td>1</td>\n",
       "    </tr>\n",
       "    <tr>\n",
       "      <th>1</th>\n",
       "      <td>53006</td>\n",
       "      <td>1</td>\n",
       "      <td>1</td>\n",
       "      <td>1</td>\n",
       "      <td>0</td>\n",
       "      <td>1</td>\n",
       "      <td>0</td>\n",
       "      <td>1</td>\n",
       "      <td>27</td>\n",
       "      <td>1</td>\n",
       "      <td>1</td>\n",
       "    </tr>\n",
       "    <tr>\n",
       "      <th>2</th>\n",
       "      <td>53007</td>\n",
       "      <td>1</td>\n",
       "      <td>1</td>\n",
       "      <td>1</td>\n",
       "      <td>1</td>\n",
       "      <td>1</td>\n",
       "      <td>0</td>\n",
       "      <td>1</td>\n",
       "      <td>28</td>\n",
       "      <td>0</td>\n",
       "      <td>1</td>\n",
       "    </tr>\n",
       "    <tr>\n",
       "      <th>3</th>\n",
       "      <td>53008</td>\n",
       "      <td>2</td>\n",
       "      <td>2</td>\n",
       "      <td>1</td>\n",
       "      <td>1</td>\n",
       "      <td>1</td>\n",
       "      <td>0</td>\n",
       "      <td>1</td>\n",
       "      <td>30</td>\n",
       "      <td>0</td>\n",
       "      <td>1</td>\n",
       "    </tr>\n",
       "    <tr>\n",
       "      <th>4</th>\n",
       "      <td>53009</td>\n",
       "      <td>1</td>\n",
       "      <td>1</td>\n",
       "      <td>1</td>\n",
       "      <td>1</td>\n",
       "      <td>0</td>\n",
       "      <td>0</td>\n",
       "      <td>1</td>\n",
       "      <td>26</td>\n",
       "      <td>0</td>\n",
       "      <td>1</td>\n",
       "    </tr>\n",
       "  </tbody>\n",
       "</table>\n",
       "</div>"
      ],
      "text/plain": [
       "      ID  Total LTD Orders  Total 24 Month Orders  \\\n",
       "0  53005                 1                      1   \n",
       "1  53006                 1                      1   \n",
       "2  53007                 1                      1   \n",
       "3  53008                 2                      2   \n",
       "4  53009                 1                      1   \n",
       "\n",
       "   Number of Divisns w/ Purchase  Number of Credit Cards Used  \\\n",
       "0                              1                            1   \n",
       "1                              1                            0   \n",
       "2                              1                            1   \n",
       "3                              1                            1   \n",
       "4                              1                            1   \n",
       "\n",
       "   Customer Gender  Different Day/Night Phone (yes=1)  \\\n",
       "0                1                                  1   \n",
       "1                1                                  0   \n",
       "2                1                                  0   \n",
       "3                1                                  0   \n",
       "4                0                                  0   \n",
       "\n",
       "   Dwelling Type Indicator  Overall RFM Points  \\\n",
       "0                        1                  28   \n",
       "1                        1                  27   \n",
       "2                        1                  28   \n",
       "3                        1                  30   \n",
       "4                        1                  26   \n",
       "\n",
       "   First Purch Mail Order (yes=1)  cluster  \n",
       "0                               0        1  \n",
       "1                               1        1  \n",
       "2                               0        1  \n",
       "3                               0        1  \n",
       "4                               0        1  "
      ]
     },
     "execution_count": 28,
     "metadata": {},
     "output_type": "execute_result"
    }
   ],
   "source": [
    "df_normalized.head()"
   ]
  },
  {
   "cell_type": "code",
   "execution_count": 29,
   "metadata": {},
   "outputs": [],
   "source": [
    "# eliminar colunas ID e cluster\n",
    "\n",
    "df_normalized.drop(['ID', 'cluster'], axis=1, inplace=True)"
   ]
  },
  {
   "cell_type": "code",
   "execution_count": 30,
   "metadata": {},
   "outputs": [
    {
     "data": {
      "text/html": [
       "<div>\n",
       "<style scoped>\n",
       "    .dataframe tbody tr th:only-of-type {\n",
       "        vertical-align: middle;\n",
       "    }\n",
       "\n",
       "    .dataframe tbody tr th {\n",
       "        vertical-align: top;\n",
       "    }\n",
       "\n",
       "    .dataframe thead th {\n",
       "        text-align: right;\n",
       "    }\n",
       "</style>\n",
       "<table border=\"1\" class=\"dataframe\">\n",
       "  <thead>\n",
       "    <tr style=\"text-align: right;\">\n",
       "      <th></th>\n",
       "      <th>Total LTD Orders</th>\n",
       "      <th>Total 24 Month Orders</th>\n",
       "      <th>Number of Divisns w/ Purchase</th>\n",
       "      <th>Number of Credit Cards Used</th>\n",
       "      <th>Customer Gender</th>\n",
       "      <th>Different Day/Night Phone (yes=1)</th>\n",
       "      <th>Dwelling Type Indicator</th>\n",
       "      <th>Overall RFM Points</th>\n",
       "      <th>First Purch Mail Order (yes=1)</th>\n",
       "    </tr>\n",
       "  </thead>\n",
       "  <tbody>\n",
       "    <tr>\n",
       "      <th>0</th>\n",
       "      <td>1</td>\n",
       "      <td>1</td>\n",
       "      <td>1</td>\n",
       "      <td>1</td>\n",
       "      <td>1</td>\n",
       "      <td>1</td>\n",
       "      <td>1</td>\n",
       "      <td>28</td>\n",
       "      <td>0</td>\n",
       "    </tr>\n",
       "    <tr>\n",
       "      <th>1</th>\n",
       "      <td>1</td>\n",
       "      <td>1</td>\n",
       "      <td>1</td>\n",
       "      <td>0</td>\n",
       "      <td>1</td>\n",
       "      <td>0</td>\n",
       "      <td>1</td>\n",
       "      <td>27</td>\n",
       "      <td>1</td>\n",
       "    </tr>\n",
       "    <tr>\n",
       "      <th>2</th>\n",
       "      <td>1</td>\n",
       "      <td>1</td>\n",
       "      <td>1</td>\n",
       "      <td>1</td>\n",
       "      <td>1</td>\n",
       "      <td>0</td>\n",
       "      <td>1</td>\n",
       "      <td>28</td>\n",
       "      <td>0</td>\n",
       "    </tr>\n",
       "    <tr>\n",
       "      <th>3</th>\n",
       "      <td>2</td>\n",
       "      <td>2</td>\n",
       "      <td>1</td>\n",
       "      <td>1</td>\n",
       "      <td>1</td>\n",
       "      <td>0</td>\n",
       "      <td>1</td>\n",
       "      <td>30</td>\n",
       "      <td>0</td>\n",
       "    </tr>\n",
       "    <tr>\n",
       "      <th>4</th>\n",
       "      <td>1</td>\n",
       "      <td>1</td>\n",
       "      <td>1</td>\n",
       "      <td>1</td>\n",
       "      <td>0</td>\n",
       "      <td>0</td>\n",
       "      <td>1</td>\n",
       "      <td>26</td>\n",
       "      <td>0</td>\n",
       "    </tr>\n",
       "  </tbody>\n",
       "</table>\n",
       "</div>"
      ],
      "text/plain": [
       "   Total LTD Orders  Total 24 Month Orders  Number of Divisns w/ Purchase  \\\n",
       "0                 1                      1                              1   \n",
       "1                 1                      1                              1   \n",
       "2                 1                      1                              1   \n",
       "3                 2                      2                              1   \n",
       "4                 1                      1                              1   \n",
       "\n",
       "   Number of Credit Cards Used  Customer Gender  \\\n",
       "0                            1                1   \n",
       "1                            0                1   \n",
       "2                            1                1   \n",
       "3                            1                1   \n",
       "4                            1                0   \n",
       "\n",
       "   Different Day/Night Phone (yes=1)  Dwelling Type Indicator  \\\n",
       "0                                  1                        1   \n",
       "1                                  0                        1   \n",
       "2                                  0                        1   \n",
       "3                                  0                        1   \n",
       "4                                  0                        1   \n",
       "\n",
       "   Overall RFM Points  First Purch Mail Order (yes=1)  \n",
       "0                  28                               0  \n",
       "1                  27                               1  \n",
       "2                  28                               0  \n",
       "3                  30                               0  \n",
       "4                  26                               0  "
      ]
     },
     "execution_count": 30,
     "metadata": {},
     "output_type": "execute_result"
    }
   ],
   "source": [
    "df_normalized.head()"
   ]
  },
  {
   "cell_type": "code",
   "execution_count": 31,
   "metadata": {},
   "outputs": [],
   "source": [
    "mms = MinMaxScaler()\n",
    "\n",
    "df_normalized[['Total LTD Orders', 'Total 24 Month Orders', 'Number of Divisns w/ Purchase', 'Number of Credit Cards Used', 'Overall RFM Points']] = mms.fit_transform(df[['Total LTD Orders', 'Total 24 Month Orders', 'Number of Divisns w/ Purchase', 'Number of Credit Cards Used', 'Overall RFM Points']])"
   ]
  },
  {
   "cell_type": "code",
   "execution_count": 32,
   "metadata": {},
   "outputs": [
    {
     "data": {
      "text/html": [
       "<div>\n",
       "<style scoped>\n",
       "    .dataframe tbody tr th:only-of-type {\n",
       "        vertical-align: middle;\n",
       "    }\n",
       "\n",
       "    .dataframe tbody tr th {\n",
       "        vertical-align: top;\n",
       "    }\n",
       "\n",
       "    .dataframe thead th {\n",
       "        text-align: right;\n",
       "    }\n",
       "</style>\n",
       "<table border=\"1\" class=\"dataframe\">\n",
       "  <thead>\n",
       "    <tr style=\"text-align: right;\">\n",
       "      <th></th>\n",
       "      <th>Total LTD Orders</th>\n",
       "      <th>Total 24 Month Orders</th>\n",
       "      <th>Number of Divisns w/ Purchase</th>\n",
       "      <th>Number of Credit Cards Used</th>\n",
       "      <th>Customer Gender</th>\n",
       "      <th>Different Day/Night Phone (yes=1)</th>\n",
       "      <th>Dwelling Type Indicator</th>\n",
       "      <th>Overall RFM Points</th>\n",
       "      <th>First Purch Mail Order (yes=1)</th>\n",
       "    </tr>\n",
       "  </thead>\n",
       "  <tbody>\n",
       "    <tr>\n",
       "      <th>0</th>\n",
       "      <td>0.000000</td>\n",
       "      <td>0.017544</td>\n",
       "      <td>0.0</td>\n",
       "      <td>0.166667</td>\n",
       "      <td>1</td>\n",
       "      <td>1</td>\n",
       "      <td>1</td>\n",
       "      <td>0.356164</td>\n",
       "      <td>0</td>\n",
       "    </tr>\n",
       "    <tr>\n",
       "      <th>1</th>\n",
       "      <td>0.000000</td>\n",
       "      <td>0.017544</td>\n",
       "      <td>0.0</td>\n",
       "      <td>0.000000</td>\n",
       "      <td>1</td>\n",
       "      <td>0</td>\n",
       "      <td>1</td>\n",
       "      <td>0.342466</td>\n",
       "      <td>1</td>\n",
       "    </tr>\n",
       "    <tr>\n",
       "      <th>2</th>\n",
       "      <td>0.000000</td>\n",
       "      <td>0.017544</td>\n",
       "      <td>0.0</td>\n",
       "      <td>0.166667</td>\n",
       "      <td>1</td>\n",
       "      <td>0</td>\n",
       "      <td>1</td>\n",
       "      <td>0.356164</td>\n",
       "      <td>0</td>\n",
       "    </tr>\n",
       "    <tr>\n",
       "      <th>3</th>\n",
       "      <td>0.005952</td>\n",
       "      <td>0.035088</td>\n",
       "      <td>0.0</td>\n",
       "      <td>0.166667</td>\n",
       "      <td>1</td>\n",
       "      <td>0</td>\n",
       "      <td>1</td>\n",
       "      <td>0.383562</td>\n",
       "      <td>0</td>\n",
       "    </tr>\n",
       "    <tr>\n",
       "      <th>4</th>\n",
       "      <td>0.000000</td>\n",
       "      <td>0.017544</td>\n",
       "      <td>0.0</td>\n",
       "      <td>0.166667</td>\n",
       "      <td>0</td>\n",
       "      <td>0</td>\n",
       "      <td>1</td>\n",
       "      <td>0.328767</td>\n",
       "      <td>0</td>\n",
       "    </tr>\n",
       "  </tbody>\n",
       "</table>\n",
       "</div>"
      ],
      "text/plain": [
       "   Total LTD Orders  Total 24 Month Orders  Number of Divisns w/ Purchase  \\\n",
       "0          0.000000               0.017544                            0.0   \n",
       "1          0.000000               0.017544                            0.0   \n",
       "2          0.000000               0.017544                            0.0   \n",
       "3          0.005952               0.035088                            0.0   \n",
       "4          0.000000               0.017544                            0.0   \n",
       "\n",
       "   Number of Credit Cards Used  Customer Gender  \\\n",
       "0                     0.166667                1   \n",
       "1                     0.000000                1   \n",
       "2                     0.166667                1   \n",
       "3                     0.166667                1   \n",
       "4                     0.166667                0   \n",
       "\n",
       "   Different Day/Night Phone (yes=1)  Dwelling Type Indicator  \\\n",
       "0                                  1                        1   \n",
       "1                                  0                        1   \n",
       "2                                  0                        1   \n",
       "3                                  0                        1   \n",
       "4                                  0                        1   \n",
       "\n",
       "   Overall RFM Points  First Purch Mail Order (yes=1)  \n",
       "0            0.356164                               0  \n",
       "1            0.342466                               1  \n",
       "2            0.356164                               0  \n",
       "3            0.383562                               0  \n",
       "4            0.328767                               0  "
      ]
     },
     "execution_count": 32,
     "metadata": {},
     "output_type": "execute_result"
    }
   ],
   "source": [
    "df_normalized.head()"
   ]
  },
  {
   "cell_type": "code",
   "execution_count": 33,
   "metadata": {},
   "outputs": [
    {
     "data": {
      "text/html": [
       "<div>\n",
       "<style scoped>\n",
       "    .dataframe tbody tr th:only-of-type {\n",
       "        vertical-align: middle;\n",
       "    }\n",
       "\n",
       "    .dataframe tbody tr th {\n",
       "        vertical-align: top;\n",
       "    }\n",
       "\n",
       "    .dataframe thead th {\n",
       "        text-align: right;\n",
       "    }\n",
       "</style>\n",
       "<table border=\"1\" class=\"dataframe\">\n",
       "  <thead>\n",
       "    <tr style=\"text-align: right;\">\n",
       "      <th></th>\n",
       "      <th>Total LTD Orders</th>\n",
       "      <th>Total 24 Month Orders</th>\n",
       "      <th>Number of Divisns w/ Purchase</th>\n",
       "      <th>Number of Credit Cards Used</th>\n",
       "      <th>Customer Gender</th>\n",
       "      <th>Different Day/Night Phone (yes=1)</th>\n",
       "      <th>Dwelling Type Indicator</th>\n",
       "      <th>Overall RFM Points</th>\n",
       "      <th>First Purch Mail Order (yes=1)</th>\n",
       "    </tr>\n",
       "  </thead>\n",
       "  <tbody>\n",
       "    <tr>\n",
       "      <th>count</th>\n",
       "      <td>5129.000000</td>\n",
       "      <td>5129.000000</td>\n",
       "      <td>5129.000000</td>\n",
       "      <td>5129.000000</td>\n",
       "      <td>5129.000000</td>\n",
       "      <td>5129.000000</td>\n",
       "      <td>5129.000000</td>\n",
       "      <td>5129.000000</td>\n",
       "      <td>5129.000000</td>\n",
       "    </tr>\n",
       "    <tr>\n",
       "      <th>mean</th>\n",
       "      <td>0.040663</td>\n",
       "      <td>0.034315</td>\n",
       "      <td>0.069092</td>\n",
       "      <td>0.215019</td>\n",
       "      <td>0.881653</td>\n",
       "      <td>0.288555</td>\n",
       "      <td>0.969195</td>\n",
       "      <td>0.402209</td>\n",
       "      <td>0.401248</td>\n",
       "    </tr>\n",
       "    <tr>\n",
       "      <th>std</th>\n",
       "      <td>0.080007</td>\n",
       "      <td>0.047902</td>\n",
       "      <td>0.125453</td>\n",
       "      <td>0.141156</td>\n",
       "      <td>0.323050</td>\n",
       "      <td>0.453135</td>\n",
       "      <td>0.172806</td>\n",
       "      <td>0.198824</td>\n",
       "      <td>0.490199</td>\n",
       "    </tr>\n",
       "    <tr>\n",
       "      <th>min</th>\n",
       "      <td>0.000000</td>\n",
       "      <td>0.000000</td>\n",
       "      <td>0.000000</td>\n",
       "      <td>0.000000</td>\n",
       "      <td>0.000000</td>\n",
       "      <td>0.000000</td>\n",
       "      <td>0.000000</td>\n",
       "      <td>0.000000</td>\n",
       "      <td>0.000000</td>\n",
       "    </tr>\n",
       "    <tr>\n",
       "      <th>25%</th>\n",
       "      <td>0.000000</td>\n",
       "      <td>0.017544</td>\n",
       "      <td>0.000000</td>\n",
       "      <td>0.166667</td>\n",
       "      <td>1.000000</td>\n",
       "      <td>0.000000</td>\n",
       "      <td>1.000000</td>\n",
       "      <td>0.219178</td>\n",
       "      <td>0.000000</td>\n",
       "    </tr>\n",
       "    <tr>\n",
       "      <th>50%</th>\n",
       "      <td>0.000000</td>\n",
       "      <td>0.017544</td>\n",
       "      <td>0.000000</td>\n",
       "      <td>0.166667</td>\n",
       "      <td>1.000000</td>\n",
       "      <td>0.000000</td>\n",
       "      <td>1.000000</td>\n",
       "      <td>0.452055</td>\n",
       "      <td>0.000000</td>\n",
       "    </tr>\n",
       "    <tr>\n",
       "      <th>75%</th>\n",
       "      <td>0.053571</td>\n",
       "      <td>0.035088</td>\n",
       "      <td>0.111111</td>\n",
       "      <td>0.166667</td>\n",
       "      <td>1.000000</td>\n",
       "      <td>1.000000</td>\n",
       "      <td>1.000000</td>\n",
       "      <td>0.561644</td>\n",
       "      <td>1.000000</td>\n",
       "    </tr>\n",
       "    <tr>\n",
       "      <th>max</th>\n",
       "      <td>1.000000</td>\n",
       "      <td>1.000000</td>\n",
       "      <td>1.000000</td>\n",
       "      <td>1.000000</td>\n",
       "      <td>1.000000</td>\n",
       "      <td>1.000000</td>\n",
       "      <td>1.000000</td>\n",
       "      <td>1.000000</td>\n",
       "      <td>1.000000</td>\n",
       "    </tr>\n",
       "  </tbody>\n",
       "</table>\n",
       "</div>"
      ],
      "text/plain": [
       "       Total LTD Orders  Total 24 Month Orders  Number of Divisns w/ Purchase  \\\n",
       "count       5129.000000            5129.000000                    5129.000000   \n",
       "mean           0.040663               0.034315                       0.069092   \n",
       "std            0.080007               0.047902                       0.125453   \n",
       "min            0.000000               0.000000                       0.000000   \n",
       "25%            0.000000               0.017544                       0.000000   \n",
       "50%            0.000000               0.017544                       0.000000   \n",
       "75%            0.053571               0.035088                       0.111111   \n",
       "max            1.000000               1.000000                       1.000000   \n",
       "\n",
       "       Number of Credit Cards Used  Customer Gender  \\\n",
       "count                  5129.000000      5129.000000   \n",
       "mean                      0.215019         0.881653   \n",
       "std                       0.141156         0.323050   \n",
       "min                       0.000000         0.000000   \n",
       "25%                       0.166667         1.000000   \n",
       "50%                       0.166667         1.000000   \n",
       "75%                       0.166667         1.000000   \n",
       "max                       1.000000         1.000000   \n",
       "\n",
       "       Different Day/Night Phone (yes=1)  Dwelling Type Indicator  \\\n",
       "count                        5129.000000              5129.000000   \n",
       "mean                            0.288555                 0.969195   \n",
       "std                             0.453135                 0.172806   \n",
       "min                             0.000000                 0.000000   \n",
       "25%                             0.000000                 1.000000   \n",
       "50%                             0.000000                 1.000000   \n",
       "75%                             1.000000                 1.000000   \n",
       "max                             1.000000                 1.000000   \n",
       "\n",
       "       Overall RFM Points  First Purch Mail Order (yes=1)  \n",
       "count         5129.000000                     5129.000000  \n",
       "mean             0.402209                        0.401248  \n",
       "std              0.198824                        0.490199  \n",
       "min              0.000000                        0.000000  \n",
       "25%              0.219178                        0.000000  \n",
       "50%              0.452055                        0.000000  \n",
       "75%              0.561644                        1.000000  \n",
       "max              1.000000                        1.000000  "
      ]
     },
     "execution_count": 33,
     "metadata": {},
     "output_type": "execute_result"
    }
   ],
   "source": [
    "# min = 0\n",
    "# max = 1\n",
    "\n",
    "df_normalized.describe()"
   ]
  },
  {
   "cell_type": "code",
   "execution_count": 34,
   "metadata": {},
   "outputs": [
    {
     "data": {
      "image/png": "[encoded data removed]",
      "text/plain": [
       "<Figure size 432x288 with 1 Axes>"
      ]
     },
     "metadata": {
      "needs_background": "light"
     },
     "output_type": "display_data"
    }
   ],
   "source": [
    "# regra do cotovelo para dados 'normalizados'\n",
    "\n",
    "plt.plot(range(1,11), elbow_method(10, 'k-means++', df_normalized), marker = 'o')\n",
    "plt.xlabel('Number of clusters')\n",
    "plt.ylabel('Distortion (within-cluster SSE)');"
   ]
  },
  {
   "cell_type": "markdown",
   "metadata": {},
   "source": [
    "Com os dados 'normalizados', `k=3` parece ser a melhor escolha."
   ]
  },
  {
   "cell_type": "code",
   "execution_count": 35,
   "metadata": {},
   "outputs": [],
   "source": [
    "clustering = KMeans(n_clusters = 3, \n",
    "                    init = 'k-means++', \n",
    "                    n_init = 10, \n",
    "                    max_iter = 100, \n",
    "                    random_state = 42)"
   ]
  },
  {
   "cell_type": "code",
   "execution_count": 36,
   "metadata": {},
   "outputs": [],
   "source": [
    "y_clust = clustering.fit_predict(df_normalized)"
   ]
  },
  {
   "cell_type": "code",
   "execution_count": 37,
   "metadata": {},
   "outputs": [],
   "source": [
    "df_normalized['cluster'] = y_clust"
   ]
  },
  {
   "cell_type": "code",
   "execution_count": 38,
   "metadata": {},
   "outputs": [
    {
     "data": {
      "text/plain": [
       "1    2193\n",
       "0    1480\n",
       "2    1456\n",
       "Name: cluster, dtype: int64"
      ]
     },
     "execution_count": 38,
     "metadata": {},
     "output_type": "execute_result"
    }
   ],
   "source": [
    "df_normalized['cluster'].value_counts()"
   ]
  },
  {
   "cell_type": "code",
   "execution_count": 39,
   "metadata": {},
   "outputs": [
    {
     "data": {
      "image/png": "[encoded data removed]",
      "text/plain": [
       "<Figure size 720x432 with 1 Axes>"
      ]
     },
     "metadata": {
      "needs_background": "light"
     },
     "output_type": "display_data"
    }
   ],
   "source": [
    "plt.figure(figsize=(10,6))\n",
    "plt.plot(df_normalized.iloc[:, 0:9][df_normalized['cluster']==0].mean(), label='cluster 0')\n",
    "plt.plot(df_normalized.iloc[:, 0:9][df_normalized['cluster']==1].mean(), label='cluster 1')\n",
    "plt.plot(df_normalized.iloc[:, 0:9][df_normalized['cluster']==2].mean(), label='cluster 2')\n",
    "\n",
    "plt.xticks(np.arange(9), xlabels, rotation=90)\n",
    "plt.legend(loc=1);"
   ]
  },
  {
   "cell_type": "markdown",
   "metadata": {},
   "source": [
    "Desta feita, as variáveis que melhor distinguem os clusters parecem ser `Different Day/Night Phone` and `First Purch Mail Order`, seguidas de `Number of Divisns w/ Purchase`."
   ]
  },
  {
   "cell_type": "markdown",
   "metadata": {},
   "source": [
    "#### 7. Standardizing features (std=1 e mean=0)"
   ]
  },
  {
   "cell_type": "code",
   "execution_count": 40,
   "metadata": {},
   "outputs": [],
   "source": [
    "df_standardized = df.copy()"
   ]
  },
  {
   "cell_type": "code",
   "execution_count": 41,
   "metadata": {},
   "outputs": [],
   "source": [
    "# eliminar colunas ID e cluster\n",
    "\n",
    "df_standardized.drop(['ID', 'cluster'], axis=1, inplace=True)"
   ]
  },
  {
   "cell_type": "code",
   "execution_count": 42,
   "metadata": {},
   "outputs": [
    {
     "data": {
      "text/html": [
       "<div>\n",
       "<style scoped>\n",
       "    .dataframe tbody tr th:only-of-type {\n",
       "        vertical-align: middle;\n",
       "    }\n",
       "\n",
       "    .dataframe tbody tr th {\n",
       "        vertical-align: top;\n",
       "    }\n",
       "\n",
       "    .dataframe thead th {\n",
       "        text-align: right;\n",
       "    }\n",
       "</style>\n",
       "<table border=\"1\" class=\"dataframe\">\n",
       "  <thead>\n",
       "    <tr style=\"text-align: right;\">\n",
       "      <th></th>\n",
       "      <th>Total LTD Orders</th>\n",
       "      <th>Total 24 Month Orders</th>\n",
       "      <th>Number of Divisns w/ Purchase</th>\n",
       "      <th>Number of Credit Cards Used</th>\n",
       "      <th>Customer Gender</th>\n",
       "      <th>Different Day/Night Phone (yes=1)</th>\n",
       "      <th>Dwelling Type Indicator</th>\n",
       "      <th>Overall RFM Points</th>\n",
       "      <th>First Purch Mail Order (yes=1)</th>\n",
       "    </tr>\n",
       "  </thead>\n",
       "  <tbody>\n",
       "    <tr>\n",
       "      <th>0</th>\n",
       "      <td>1</td>\n",
       "      <td>1</td>\n",
       "      <td>1</td>\n",
       "      <td>1</td>\n",
       "      <td>1</td>\n",
       "      <td>1</td>\n",
       "      <td>1</td>\n",
       "      <td>28</td>\n",
       "      <td>0</td>\n",
       "    </tr>\n",
       "    <tr>\n",
       "      <th>1</th>\n",
       "      <td>1</td>\n",
       "      <td>1</td>\n",
       "      <td>1</td>\n",
       "      <td>0</td>\n",
       "      <td>1</td>\n",
       "      <td>0</td>\n",
       "      <td>1</td>\n",
       "      <td>27</td>\n",
       "      <td>1</td>\n",
       "    </tr>\n",
       "    <tr>\n",
       "      <th>2</th>\n",
       "      <td>1</td>\n",
       "      <td>1</td>\n",
       "      <td>1</td>\n",
       "      <td>1</td>\n",
       "      <td>1</td>\n",
       "      <td>0</td>\n",
       "      <td>1</td>\n",
       "      <td>28</td>\n",
       "      <td>0</td>\n",
       "    </tr>\n",
       "    <tr>\n",
       "      <th>3</th>\n",
       "      <td>2</td>\n",
       "      <td>2</td>\n",
       "      <td>1</td>\n",
       "      <td>1</td>\n",
       "      <td>1</td>\n",
       "      <td>0</td>\n",
       "      <td>1</td>\n",
       "      <td>30</td>\n",
       "      <td>0</td>\n",
       "    </tr>\n",
       "    <tr>\n",
       "      <th>4</th>\n",
       "      <td>1</td>\n",
       "      <td>1</td>\n",
       "      <td>1</td>\n",
       "      <td>1</td>\n",
       "      <td>0</td>\n",
       "      <td>0</td>\n",
       "      <td>1</td>\n",
       "      <td>26</td>\n",
       "      <td>0</td>\n",
       "    </tr>\n",
       "  </tbody>\n",
       "</table>\n",
       "</div>"
      ],
      "text/plain": [
       "   Total LTD Orders  Total 24 Month Orders  Number of Divisns w/ Purchase  \\\n",
       "0                 1                      1                              1   \n",
       "1                 1                      1                              1   \n",
       "2                 1                      1                              1   \n",
       "3                 2                      2                              1   \n",
       "4                 1                      1                              1   \n",
       "\n",
       "   Number of Credit Cards Used  Customer Gender  \\\n",
       "0                            1                1   \n",
       "1                            0                1   \n",
       "2                            1                1   \n",
       "3                            1                1   \n",
       "4                            1                0   \n",
       "\n",
       "   Different Day/Night Phone (yes=1)  Dwelling Type Indicator  \\\n",
       "0                                  1                        1   \n",
       "1                                  0                        1   \n",
       "2                                  0                        1   \n",
       "3                                  0                        1   \n",
       "4                                  0                        1   \n",
       "\n",
       "   Overall RFM Points  First Purch Mail Order (yes=1)  \n",
       "0                  28                               0  \n",
       "1                  27                               1  \n",
       "2                  28                               0  \n",
       "3                  30                               0  \n",
       "4                  26                               0  "
      ]
     },
     "execution_count": 42,
     "metadata": {},
     "output_type": "execute_result"
    }
   ],
   "source": [
    "df_standardized.head()"
   ]
  },
  {
   "cell_type": "code",
   "execution_count": 43,
   "metadata": {},
   "outputs": [],
   "source": [
    "stds = StandardScaler()\n",
    "\n",
    "df_standardized[df_standardized.columns] = stds.fit_transform(df[df_standardized.columns])"
   ]
  },
  {
   "cell_type": "code",
   "execution_count": 44,
   "metadata": {},
   "outputs": [
    {
     "data": {
      "text/html": [
       "<div>\n",
       "<style scoped>\n",
       "    .dataframe tbody tr th:only-of-type {\n",
       "        vertical-align: middle;\n",
       "    }\n",
       "\n",
       "    .dataframe tbody tr th {\n",
       "        vertical-align: top;\n",
       "    }\n",
       "\n",
       "    .dataframe thead th {\n",
       "        text-align: right;\n",
       "    }\n",
       "</style>\n",
       "<table border=\"1\" class=\"dataframe\">\n",
       "  <thead>\n",
       "    <tr style=\"text-align: right;\">\n",
       "      <th></th>\n",
       "      <th>Total LTD Orders</th>\n",
       "      <th>Total 24 Month Orders</th>\n",
       "      <th>Number of Divisns w/ Purchase</th>\n",
       "      <th>Number of Credit Cards Used</th>\n",
       "      <th>Customer Gender</th>\n",
       "      <th>Different Day/Night Phone (yes=1)</th>\n",
       "      <th>Dwelling Type Indicator</th>\n",
       "      <th>Overall RFM Points</th>\n",
       "      <th>First Purch Mail Order (yes=1)</th>\n",
       "    </tr>\n",
       "  </thead>\n",
       "  <tbody>\n",
       "    <tr>\n",
       "      <th>0</th>\n",
       "      <td>-0.508293</td>\n",
       "      <td>-0.350141</td>\n",
       "      <td>-0.55079</td>\n",
       "      <td>-0.342580</td>\n",
       "      <td>0.366378</td>\n",
       "      <td>1.570204</td>\n",
       "      <td>0.178282</td>\n",
       "      <td>-0.231609</td>\n",
       "      <td>-0.818621</td>\n",
       "    </tr>\n",
       "    <tr>\n",
       "      <th>1</th>\n",
       "      <td>-0.508293</td>\n",
       "      <td>-0.350141</td>\n",
       "      <td>-0.55079</td>\n",
       "      <td>-1.523424</td>\n",
       "      <td>0.366378</td>\n",
       "      <td>-0.636860</td>\n",
       "      <td>0.178282</td>\n",
       "      <td>-0.300514</td>\n",
       "      <td>1.221567</td>\n",
       "    </tr>\n",
       "    <tr>\n",
       "      <th>2</th>\n",
       "      <td>-0.508293</td>\n",
       "      <td>-0.350141</td>\n",
       "      <td>-0.55079</td>\n",
       "      <td>-0.342580</td>\n",
       "      <td>0.366378</td>\n",
       "      <td>-0.636860</td>\n",
       "      <td>0.178282</td>\n",
       "      <td>-0.231609</td>\n",
       "      <td>-0.818621</td>\n",
       "    </tr>\n",
       "    <tr>\n",
       "      <th>3</th>\n",
       "      <td>-0.433887</td>\n",
       "      <td>0.016139</td>\n",
       "      <td>-0.55079</td>\n",
       "      <td>-0.342580</td>\n",
       "      <td>0.366378</td>\n",
       "      <td>-0.636860</td>\n",
       "      <td>0.178282</td>\n",
       "      <td>-0.093799</td>\n",
       "      <td>-0.818621</td>\n",
       "    </tr>\n",
       "    <tr>\n",
       "      <th>4</th>\n",
       "      <td>-0.508293</td>\n",
       "      <td>-0.350141</td>\n",
       "      <td>-0.55079</td>\n",
       "      <td>-0.342580</td>\n",
       "      <td>-2.729424</td>\n",
       "      <td>-0.636860</td>\n",
       "      <td>0.178282</td>\n",
       "      <td>-0.369419</td>\n",
       "      <td>-0.818621</td>\n",
       "    </tr>\n",
       "  </tbody>\n",
       "</table>\n",
       "</div>"
      ],
      "text/plain": [
       "   Total LTD Orders  Total 24 Month Orders  Number of Divisns w/ Purchase  \\\n",
       "0         -0.508293              -0.350141                       -0.55079   \n",
       "1         -0.508293              -0.350141                       -0.55079   \n",
       "2         -0.508293              -0.350141                       -0.55079   \n",
       "3         -0.433887               0.016139                       -0.55079   \n",
       "4         -0.508293              -0.350141                       -0.55079   \n",
       "\n",
       "   Number of Credit Cards Used  Customer Gender  \\\n",
       "0                    -0.342580         0.366378   \n",
       "1                    -1.523424         0.366378   \n",
       "2                    -0.342580         0.366378   \n",
       "3                    -0.342580         0.366378   \n",
       "4                    -0.342580        -2.729424   \n",
       "\n",
       "   Different Day/Night Phone (yes=1)  Dwelling Type Indicator  \\\n",
       "0                           1.570204                 0.178282   \n",
       "1                          -0.636860                 0.178282   \n",
       "2                          -0.636860                 0.178282   \n",
       "3                          -0.636860                 0.178282   \n",
       "4                          -0.636860                 0.178282   \n",
       "\n",
       "   Overall RFM Points  First Purch Mail Order (yes=1)  \n",
       "0           -0.231609                       -0.818621  \n",
       "1           -0.300514                        1.221567  \n",
       "2           -0.231609                       -0.818621  \n",
       "3           -0.093799                       -0.818621  \n",
       "4           -0.369419                       -0.818621  "
      ]
     },
     "execution_count": 44,
     "metadata": {},
     "output_type": "execute_result"
    }
   ],
   "source": [
    "df_standardized.head()"
   ]
  },
  {
   "cell_type": "code",
   "execution_count": 45,
   "metadata": {},
   "outputs": [
    {
     "data": {
      "text/html": [
       "<div>\n",
       "<style scoped>\n",
       "    .dataframe tbody tr th:only-of-type {\n",
       "        vertical-align: middle;\n",
       "    }\n",
       "\n",
       "    .dataframe tbody tr th {\n",
       "        vertical-align: top;\n",
       "    }\n",
       "\n",
       "    .dataframe thead th {\n",
       "        text-align: right;\n",
       "    }\n",
       "</style>\n",
       "<table border=\"1\" class=\"dataframe\">\n",
       "  <thead>\n",
       "    <tr style=\"text-align: right;\">\n",
       "      <th></th>\n",
       "      <th>Total LTD Orders</th>\n",
       "      <th>Total 24 Month Orders</th>\n",
       "      <th>Number of Divisns w/ Purchase</th>\n",
       "      <th>Number of Credit Cards Used</th>\n",
       "      <th>Customer Gender</th>\n",
       "      <th>Different Day/Night Phone (yes=1)</th>\n",
       "      <th>Dwelling Type Indicator</th>\n",
       "      <th>Overall RFM Points</th>\n",
       "      <th>First Purch Mail Order (yes=1)</th>\n",
       "    </tr>\n",
       "  </thead>\n",
       "  <tbody>\n",
       "    <tr>\n",
       "      <th>count</th>\n",
       "      <td>5.129000e+03</td>\n",
       "      <td>5.129000e+03</td>\n",
       "      <td>5.129000e+03</td>\n",
       "      <td>5.129000e+03</td>\n",
       "      <td>5.129000e+03</td>\n",
       "      <td>5.129000e+03</td>\n",
       "      <td>5.129000e+03</td>\n",
       "      <td>5129.000000</td>\n",
       "      <td>5.129000e+03</td>\n",
       "    </tr>\n",
       "    <tr>\n",
       "      <th>mean</th>\n",
       "      <td>-8.866199e-17</td>\n",
       "      <td>-4.433100e-17</td>\n",
       "      <td>-4.433100e-17</td>\n",
       "      <td>-4.433100e-17</td>\n",
       "      <td>9.420337e-17</td>\n",
       "      <td>7.757924e-17</td>\n",
       "      <td>6.649649e-17</td>\n",
       "      <td>0.000000</td>\n",
       "      <td>1.773240e-16</td>\n",
       "    </tr>\n",
       "    <tr>\n",
       "      <th>std</th>\n",
       "      <td>1.000097e+00</td>\n",
       "      <td>1.000097e+00</td>\n",
       "      <td>1.000097e+00</td>\n",
       "      <td>1.000097e+00</td>\n",
       "      <td>1.000097e+00</td>\n",
       "      <td>1.000097e+00</td>\n",
       "      <td>1.000097e+00</td>\n",
       "      <td>1.000097</td>\n",
       "      <td>1.000097e+00</td>\n",
       "    </tr>\n",
       "    <tr>\n",
       "      <th>min</th>\n",
       "      <td>-5.082929e-01</td>\n",
       "      <td>-7.164218e-01</td>\n",
       "      <td>-5.507903e-01</td>\n",
       "      <td>-1.523424e+00</td>\n",
       "      <td>-2.729424e+00</td>\n",
       "      <td>-6.368599e-01</td>\n",
       "      <td>-5.609102e+00</td>\n",
       "      <td>-2.023137</td>\n",
       "      <td>-8.186208e-01</td>\n",
       "    </tr>\n",
       "    <tr>\n",
       "      <th>25%</th>\n",
       "      <td>-5.082929e-01</td>\n",
       "      <td>-3.501412e-01</td>\n",
       "      <td>-5.507903e-01</td>\n",
       "      <td>-3.425804e-01</td>\n",
       "      <td>3.663777e-01</td>\n",
       "      <td>-6.368599e-01</td>\n",
       "      <td>1.782817e-01</td>\n",
       "      <td>-0.920658</td>\n",
       "      <td>-8.186208e-01</td>\n",
       "    </tr>\n",
       "    <tr>\n",
       "      <th>50%</th>\n",
       "      <td>-5.082929e-01</td>\n",
       "      <td>-3.501412e-01</td>\n",
       "      <td>-5.507903e-01</td>\n",
       "      <td>-3.425804e-01</td>\n",
       "      <td>3.663777e-01</td>\n",
       "      <td>-6.368599e-01</td>\n",
       "      <td>1.782817e-01</td>\n",
       "      <td>0.250726</td>\n",
       "      <td>-8.186208e-01</td>\n",
       "    </tr>\n",
       "    <tr>\n",
       "      <th>75%</th>\n",
       "      <td>1.613603e-01</td>\n",
       "      <td>1.613949e-02</td>\n",
       "      <td>3.349758e-01</td>\n",
       "      <td>-3.425804e-01</td>\n",
       "      <td>3.663777e-01</td>\n",
       "      <td>1.570204e+00</td>\n",
       "      <td>1.782817e-01</td>\n",
       "      <td>0.801965</td>\n",
       "      <td>1.221567e+00</td>\n",
       "    </tr>\n",
       "    <tr>\n",
       "      <th>max</th>\n",
       "      <td>1.199190e+01</td>\n",
       "      <td>2.016157e+01</td>\n",
       "      <td>7.421105e+00</td>\n",
       "      <td>5.561636e+00</td>\n",
       "      <td>3.663777e-01</td>\n",
       "      <td>1.570204e+00</td>\n",
       "      <td>1.782817e-01</td>\n",
       "      <td>3.006923</td>\n",
       "      <td>1.221567e+00</td>\n",
       "    </tr>\n",
       "  </tbody>\n",
       "</table>\n",
       "</div>"
      ],
      "text/plain": [
       "       Total LTD Orders  Total 24 Month Orders  Number of Divisns w/ Purchase  \\\n",
       "count      5.129000e+03           5.129000e+03                   5.129000e+03   \n",
       "mean      -8.866199e-17          -4.433100e-17                  -4.433100e-17   \n",
       "std        1.000097e+00           1.000097e+00                   1.000097e+00   \n",
       "min       -5.082929e-01          -7.164218e-01                  -5.507903e-01   \n",
       "25%       -5.082929e-01          -3.501412e-01                  -5.507903e-01   \n",
       "50%       -5.082929e-01          -3.501412e-01                  -5.507903e-01   \n",
       "75%        1.613603e-01           1.613949e-02                   3.349758e-01   \n",
       "max        1.199190e+01           2.016157e+01                   7.421105e+00   \n",
       "\n",
       "       Number of Credit Cards Used  Customer Gender  \\\n",
       "count                 5.129000e+03     5.129000e+03   \n",
       "mean                 -4.433100e-17     9.420337e-17   \n",
       "std                   1.000097e+00     1.000097e+00   \n",
       "min                  -1.523424e+00    -2.729424e+00   \n",
       "25%                  -3.425804e-01     3.663777e-01   \n",
       "50%                  -3.425804e-01     3.663777e-01   \n",
       "75%                  -3.425804e-01     3.663777e-01   \n",
       "max                   5.561636e+00     3.663777e-01   \n",
       "\n",
       "       Different Day/Night Phone (yes=1)  Dwelling Type Indicator  \\\n",
       "count                       5.129000e+03             5.129000e+03   \n",
       "mean                        7.757924e-17             6.649649e-17   \n",
       "std                         1.000097e+00             1.000097e+00   \n",
       "min                        -6.368599e-01            -5.609102e+00   \n",
       "25%                        -6.368599e-01             1.782817e-01   \n",
       "50%                        -6.368599e-01             1.782817e-01   \n",
       "75%                         1.570204e+00             1.782817e-01   \n",
       "max                         1.570204e+00             1.782817e-01   \n",
       "\n",
       "       Overall RFM Points  First Purch Mail Order (yes=1)  \n",
       "count         5129.000000                    5.129000e+03  \n",
       "mean             0.000000                    1.773240e-16  \n",
       "std              1.000097                    1.000097e+00  \n",
       "min             -2.023137                   -8.186208e-01  \n",
       "25%             -0.920658                   -8.186208e-01  \n",
       "50%              0.250726                   -8.186208e-01  \n",
       "75%              0.801965                    1.221567e+00  \n",
       "max              3.006923                    1.221567e+00  "
      ]
     },
     "execution_count": 45,
     "metadata": {},
     "output_type": "execute_result"
    }
   ],
   "source": [
    "# std = 1\n",
    "# mean = 0\n",
    "\n",
    "df_standardized.describe()"
   ]
  },
  {
   "cell_type": "code",
   "execution_count": 46,
   "metadata": {},
   "outputs": [
    {
     "data": {
      "image/png": "[encoded data removed]",
      "text/plain": [
       "<Figure size 432x288 with 1 Axes>"
      ]
     },
     "metadata": {
      "needs_background": "light"
     },
     "output_type": "display_data"
    }
   ],
   "source": [
    "# regra do cotovelo para dados 'standardizados'\n",
    "\n",
    "plt.plot(range(1,11), elbow_method(10, 'k-means++', df_standardized), marker = 'o')\n",
    "plt.xlabel('Number of clusters')\n",
    "plt.ylabel('Distortion (within-cluster SSE)');"
   ]
  },
  {
   "cell_type": "markdown",
   "metadata": {},
   "source": [
    "Com os dados 'standardizados', `k=2` parece ser a melhor escolha."
   ]
  },
  {
   "cell_type": "code",
   "execution_count": 47,
   "metadata": {},
   "outputs": [],
   "source": [
    "clustering = KMeans(n_clusters = 2, \n",
    "                    init = 'k-means++', \n",
    "                    n_init = 10, \n",
    "                    max_iter = 100, \n",
    "                    random_state = 42)"
   ]
  },
  {
   "cell_type": "code",
   "execution_count": 48,
   "metadata": {},
   "outputs": [],
   "source": [
    "y_clust = clustering.fit_predict(df_standardized)"
   ]
  },
  {
   "cell_type": "code",
   "execution_count": 49,
   "metadata": {},
   "outputs": [],
   "source": [
    "df_standardized['cluster'] = y_clust"
   ]
  },
  {
   "cell_type": "code",
   "execution_count": 50,
   "metadata": {},
   "outputs": [
    {
     "data": {
      "text/plain": [
       "0    3474\n",
       "1    1655\n",
       "Name: cluster, dtype: int64"
      ]
     },
     "execution_count": 50,
     "metadata": {},
     "output_type": "execute_result"
    }
   ],
   "source": [
    "df_standardized['cluster'].value_counts()"
   ]
  },
  {
   "cell_type": "code",
   "execution_count": 51,
   "metadata": {},
   "outputs": [
    {
     "data": {
      "image/png": "[encoded data removed]",
      "text/plain": [
       "<Figure size 720x432 with 1 Axes>"
      ]
     },
     "metadata": {
      "needs_background": "light"
     },
     "output_type": "display_data"
    }
   ],
   "source": [
    "plt.figure(figsize=(10,6))\n",
    "plt.plot(df_standardized.iloc[:, 0:9][df_standardized['cluster']==0].mean(), label='cluster 0')\n",
    "plt.plot(df_standardized.iloc[:, 0:9][df_standardized['cluster']==1].mean(), label='cluster 1')\n",
    "\n",
    "plt.xticks(np.arange(9), xlabels, rotation=90)\n",
    "plt.legend(loc=1);"
   ]
  },
  {
   "cell_type": "markdown",
   "metadata": {},
   "source": [
    "Com excepção das variáveis `Customer Gender` e `Different Day/Night Phone`, todas as outras são relevantes na distinção entre os clusters."
   ]
  },
  {
   "cell_type": "markdown",
   "metadata": {},
   "source": [
    "#### 8. Clustering com DBSCAN"
   ]
  },
  {
   "cell_type": "markdown",
   "metadata": {},
   "source": [
    "Alternativamente, podemos usar um algoritmo de clustering baseado na densidade como o DBSCAN. Neste caso, os clusters já não têm a forma de uma esfera (ou hiper-esfera), podendo esta forma ser arbitrária."
   ]
  },
  {
   "cell_type": "code",
   "execution_count": 52,
   "metadata": {},
   "outputs": [],
   "source": [
    "clustering = DBSCAN(eps=1, min_samples=20)"
   ]
  },
  {
   "cell_type": "code",
   "execution_count": 53,
   "metadata": {},
   "outputs": [],
   "source": [
    "y_clust = clustering.fit_predict(df.iloc[:, 1:10])"
   ]
  },
  {
   "cell_type": "code",
   "execution_count": 54,
   "metadata": {},
   "outputs": [],
   "source": [
    "df['cluster'] = y_clust"
   ]
  },
  {
   "cell_type": "code",
   "execution_count": 55,
   "metadata": {},
   "outputs": [
    {
     "data": {
      "text/plain": [
       " 0    2545\n",
       "-1    2267\n",
       " 2     222\n",
       " 1      62\n",
       " 3      33\n",
       "Name: cluster, dtype: int64"
      ]
     },
     "execution_count": 55,
     "metadata": {},
     "output_type": "execute_result"
    }
   ],
   "source": [
    "# amostras 'noisy' têm label -1\n",
    "\n",
    "df['cluster'].value_counts()"
   ]
  },
  {
   "cell_type": "markdown",
   "metadata": {},
   "source": [
    "Grande parte das amostras é considerada 'noisy'. Como o parâmetro épsilon se baseia na distância euclidiana, é mais uma vez importante 'normalizar/standardizar' as variáveis."
   ]
  },
  {
   "cell_type": "code",
   "execution_count": 56,
   "metadata": {},
   "outputs": [],
   "source": [
    "df_normalized.drop(['cluster'], axis=1, inplace=True)"
   ]
  },
  {
   "cell_type": "code",
   "execution_count": 57,
   "metadata": {},
   "outputs": [],
   "source": [
    "clustering = DBSCAN(eps=0.5, min_samples=200)"
   ]
  },
  {
   "cell_type": "code",
   "execution_count": 58,
   "metadata": {},
   "outputs": [],
   "source": [
    "y_clust = clustering.fit_predict(df_normalized)"
   ]
  },
  {
   "cell_type": "code",
   "execution_count": 59,
   "metadata": {},
   "outputs": [],
   "source": [
    "df_normalized['cluster'] = y_clust"
   ]
  },
  {
   "cell_type": "code",
   "execution_count": 60,
   "metadata": {},
   "outputs": [
    {
     "data": {
      "text/plain": [
       " 2    1918\n",
       " 1    1195\n",
       " 0     770\n",
       "-1     502\n",
       " 4     495\n",
       " 3     249\n",
       "Name: cluster, dtype: int64"
      ]
     },
     "execution_count": 60,
     "metadata": {},
     "output_type": "execute_result"
    }
   ],
   "source": [
    "# amostras 'noisy' têm label -1\n",
    "\n",
    "df_normalized['cluster'].value_counts()"
   ]
  },
  {
   "cell_type": "code",
   "execution_count": 61,
   "metadata": {},
   "outputs": [
    {
     "data": {
      "image/png": "[encoded data removed]",
      "text/plain": [
       "<Figure size 720x432 with 1 Axes>"
      ]
     },
     "metadata": {
      "needs_background": "light"
     },
     "output_type": "display_data"
    }
   ],
   "source": [
    "plt.figure(figsize=(10,6))\n",
    "plt.plot(df_normalized.iloc[:, 0:9][df_normalized['cluster']==0].mean(), label='cluster 0')\n",
    "plt.plot(df_normalized.iloc[:, 0:9][df_normalized['cluster']==1].mean(), label='cluster 1')\n",
    "plt.plot(df_normalized.iloc[:, 0:9][df_normalized['cluster']==2].mean(), label='cluster 2')\n",
    "plt.plot(df_normalized.iloc[:, 0:9][df_normalized['cluster']==3].mean(), label='cluster 3')\n",
    "plt.plot(df_normalized.iloc[:, 0:9][df_normalized['cluster']==4].mean(), label='cluster 4')\n",
    "\n",
    "plt.xticks(np.arange(9), xlabels, rotation=90)\n",
    "plt.legend(loc=1);"
   ]
  },
  {
   "cell_type": "code",
   "execution_count": 62,
   "metadata": {},
   "outputs": [],
   "source": [
    "df_standardized.drop(['cluster'], axis=1, inplace=True)"
   ]
  },
  {
   "cell_type": "code",
   "execution_count": 63,
   "metadata": {},
   "outputs": [],
   "source": [
    "clustering = DBSCAN(eps=2, min_samples=100)"
   ]
  },
  {
   "cell_type": "code",
   "execution_count": 64,
   "metadata": {},
   "outputs": [],
   "source": [
    "y_clust = clustering.fit_predict(df_standardized)"
   ]
  },
  {
   "cell_type": "code",
   "execution_count": 65,
   "metadata": {},
   "outputs": [],
   "source": [
    "df_standardized['cluster'] = y_clust"
   ]
  },
  {
   "cell_type": "code",
   "execution_count": 66,
   "metadata": {},
   "outputs": [
    {
     "data": {
      "text/plain": [
       " 2    1893\n",
       " 1    1123\n",
       " 0     745\n",
       "-1     547\n",
       " 4     455\n",
       " 3     238\n",
       " 5     128\n",
       "Name: cluster, dtype: int64"
      ]
     },
     "execution_count": 66,
     "metadata": {},
     "output_type": "execute_result"
    }
   ],
   "source": [
    "# amostras 'noisy' têm label -1\n",
    "\n",
    "df_standardized['cluster'].value_counts()"
   ]
  },
  {
   "cell_type": "code",
   "execution_count": 67,
   "metadata": {},
   "outputs": [
    {
     "data": {
      "image/png": "[encoded data removed]",
      "text/plain": [
       "<Figure size 720x432 with 1 Axes>"
      ]
     },
     "metadata": {
      "needs_background": "light"
     },
     "output_type": "display_data"
    }
   ],
   "source": [
    "plt.figure(figsize=(10,6))\n",
    "plt.plot(df_standardized.iloc[:, 0:9][df_standardized['cluster']==0].mean(), label='cluster 0')\n",
    "plt.plot(df_standardized.iloc[:, 0:9][df_standardized['cluster']==1].mean(), label='cluster 1')\n",
    "plt.plot(df_standardized.iloc[:, 0:9][df_standardized['cluster']==2].mean(), label='cluster 2')\n",
    "plt.plot(df_standardized.iloc[:, 0:9][df_standardized['cluster']==3].mean(), label='cluster 3')\n",
    "plt.plot(df_standardized.iloc[:, 0:9][df_standardized['cluster']==4].mean(), label='cluster 4')\n",
    "plt.plot(df_standardized.iloc[:, 0:9][df_standardized['cluster']==5].mean(), label='cluster 5')\n",
    "\n",
    "plt.xticks(np.arange(9), xlabels, rotation=90)\n",
    "plt.legend(loc=1);"
   ]
  }
 ],
 "metadata": {
  "kernelspec": {
   "display_name": "Python 3",
   "language": "python",
   "name": "python3"
  },
  "language_info": {
   "codemirror_mode": {
    "name": "ipython",
    "version": 3
   },
   "file_extension": ".py",
   "mimetype": "text/x-python",
   "name": "python",
   "nbconvert_exporter": "python",
   "pygments_lexer": "ipython3",
   "version": "3.8.8"
  }
 },
 "nbformat": 4,
 "nbformat_minor": 2
}
