{
 "cells": [
  {
   "cell_type": "markdown",
   "id": "undefined-murray",
   "metadata": {},
   "source": [
    "# Classification"
   ]
  },
  {
   "cell_type": "code",
   "execution_count": 1,
   "id": "opposite-review",
   "metadata": {},
   "outputs": [],
   "source": [
    "import pandas as pd\n",
    "import numpy as np\n",
    "import matplotlib.pyplot as plt\n",
    "\n",
    "import warnings\n",
    "warnings.filterwarnings('ignore')\n",
    "\n",
    "from sklearn.model_selection import train_test_split\n",
    "\n",
    "from sklearn.tree import DecisionTreeClassifier, plot_tree\n",
    "\n",
    "from sklearn.metrics import confusion_matrix, plot_confusion_matrix, accuracy_score, classification_report\n",
    "from sklearn.metrics import auc, roc_curve"
   ]
  },
  {
   "cell_type": "markdown",
   "id": "premium-concern",
   "metadata": {},
   "source": [
    "#### 1. Carregar dados"
   ]
  },
  {
   "cell_type": "code",
   "execution_count": 2,
   "id": "residential-gross",
   "metadata": {},
   "outputs": [
    {
     "data": {
      "text/html": [
       "<div>\n",
       "<style scoped>\n",
       "    .dataframe tbody tr th:only-of-type {\n",
       "        vertical-align: middle;\n",
       "    }\n",
       "\n",
       "    .dataframe tbody tr th {\n",
       "        vertical-align: top;\n",
       "    }\n",
       "\n",
       "    .dataframe thead th {\n",
       "        text-align: right;\n",
       "    }\n",
       "</style>\n",
       "<table border=\"1\" class=\"dataframe\">\n",
       "  <thead>\n",
       "    <tr style=\"text-align: right;\">\n",
       "      <th></th>\n",
       "      <th>Bought?</th>\n",
       "      <th>Age</th>\n",
       "      <th>Income</th>\n",
       "      <th>Family size</th>\n",
       "      <th>Cars bought previously</th>\n",
       "      <th>Value of last purchase</th>\n",
       "    </tr>\n",
       "  </thead>\n",
       "  <tbody>\n",
       "    <tr>\n",
       "      <th>0</th>\n",
       "      <td>nao</td>\n",
       "      <td>37</td>\n",
       "      <td>49000</td>\n",
       "      <td>2</td>\n",
       "      <td>1</td>\n",
       "      <td>42000</td>\n",
       "    </tr>\n",
       "    <tr>\n",
       "      <th>1</th>\n",
       "      <td>sim</td>\n",
       "      <td>43</td>\n",
       "      <td>68000</td>\n",
       "      <td>3</td>\n",
       "      <td>0</td>\n",
       "      <td>0</td>\n",
       "    </tr>\n",
       "    <tr>\n",
       "      <th>2</th>\n",
       "      <td>sim</td>\n",
       "      <td>42</td>\n",
       "      <td>61000</td>\n",
       "      <td>4</td>\n",
       "      <td>0</td>\n",
       "      <td>0</td>\n",
       "    </tr>\n",
       "    <tr>\n",
       "      <th>3</th>\n",
       "      <td>sim</td>\n",
       "      <td>26</td>\n",
       "      <td>52000</td>\n",
       "      <td>2</td>\n",
       "      <td>0</td>\n",
       "      <td>0</td>\n",
       "    </tr>\n",
       "    <tr>\n",
       "      <th>4</th>\n",
       "      <td>sim</td>\n",
       "      <td>40</td>\n",
       "      <td>64000</td>\n",
       "      <td>1</td>\n",
       "      <td>1</td>\n",
       "      <td>21000</td>\n",
       "    </tr>\n",
       "  </tbody>\n",
       "</table>\n",
       "</div>"
      ],
      "text/plain": [
       "  Bought?  Age  Income  Family size  Cars bought previously  \\\n",
       "0     nao   37   49000            2                       1   \n",
       "1     sim   43   68000            3                       0   \n",
       "2     sim   42   61000            4                       0   \n",
       "3     sim   26   52000            2                       0   \n",
       "4     sim   40   64000            1                       1   \n",
       "\n",
       "   Value of last purchase  \n",
       "0                   42000  \n",
       "1                       0  \n",
       "2                       0  \n",
       "3                       0  \n",
       "4                   21000  "
      ]
     },
     "execution_count": 2,
     "metadata": {},
     "output_type": "execute_result"
    }
   ],
   "source": [
    "df = pd.read_excel(\"./data/L01-data-first projects.xlsx\", sheet_name='car sales-historical data')\n",
    "\n",
    "df.head()"
   ]
  },
  {
   "cell_type": "code",
   "execution_count": 3,
   "id": "pending-rocket",
   "metadata": {},
   "outputs": [
    {
     "data": {
      "text/html": [
       "<div>\n",
       "<style scoped>\n",
       "    .dataframe tbody tr th:only-of-type {\n",
       "        vertical-align: middle;\n",
       "    }\n",
       "\n",
       "    .dataframe tbody tr th {\n",
       "        vertical-align: top;\n",
       "    }\n",
       "\n",
       "    .dataframe thead th {\n",
       "        text-align: right;\n",
       "    }\n",
       "</style>\n",
       "<table border=\"1\" class=\"dataframe\">\n",
       "  <thead>\n",
       "    <tr style=\"text-align: right;\">\n",
       "      <th></th>\n",
       "      <th>Bought?</th>\n",
       "      <th>Age</th>\n",
       "      <th>Income</th>\n",
       "      <th>Family size</th>\n",
       "      <th>Cars bought previously</th>\n",
       "      <th>Value of last purchase</th>\n",
       "    </tr>\n",
       "  </thead>\n",
       "  <tbody>\n",
       "    <tr>\n",
       "      <th>70</th>\n",
       "      <td>nao</td>\n",
       "      <td>53</td>\n",
       "      <td>27000</td>\n",
       "      <td>1</td>\n",
       "      <td>0</td>\n",
       "      <td>0</td>\n",
       "    </tr>\n",
       "    <tr>\n",
       "      <th>71</th>\n",
       "      <td>sim</td>\n",
       "      <td>45</td>\n",
       "      <td>33000</td>\n",
       "      <td>2</td>\n",
       "      <td>1</td>\n",
       "      <td>40000</td>\n",
       "    </tr>\n",
       "    <tr>\n",
       "      <th>72</th>\n",
       "      <td>sim</td>\n",
       "      <td>50</td>\n",
       "      <td>27000</td>\n",
       "      <td>2</td>\n",
       "      <td>1</td>\n",
       "      <td>36000</td>\n",
       "    </tr>\n",
       "    <tr>\n",
       "      <th>73</th>\n",
       "      <td>sim</td>\n",
       "      <td>59</td>\n",
       "      <td>56000</td>\n",
       "      <td>1</td>\n",
       "      <td>1</td>\n",
       "      <td>42000</td>\n",
       "    </tr>\n",
       "    <tr>\n",
       "      <th>74</th>\n",
       "      <td>nao</td>\n",
       "      <td>59</td>\n",
       "      <td>35000</td>\n",
       "      <td>2</td>\n",
       "      <td>0</td>\n",
       "      <td>0</td>\n",
       "    </tr>\n",
       "  </tbody>\n",
       "</table>\n",
       "</div>"
      ],
      "text/plain": [
       "   Bought?  Age  Income  Family size  Cars bought previously  \\\n",
       "70     nao   53   27000            1                       0   \n",
       "71     sim   45   33000            2                       1   \n",
       "72     sim   50   27000            2                       1   \n",
       "73     sim   59   56000            1                       1   \n",
       "74     nao   59   35000            2                       0   \n",
       "\n",
       "    Value of last purchase  \n",
       "70                       0  \n",
       "71                   40000  \n",
       "72                   36000  \n",
       "73                   42000  \n",
       "74                       0  "
      ]
     },
     "execution_count": 3,
     "metadata": {},
     "output_type": "execute_result"
    }
   ],
   "source": [
    "df.tail()"
   ]
  },
  {
   "cell_type": "markdown",
   "id": "stunning-corps",
   "metadata": {},
   "source": [
    "#### 2. Definir variáveis independentes e variável dependente"
   ]
  },
  {
   "cell_type": "code",
   "execution_count": 4,
   "id": "special-central",
   "metadata": {},
   "outputs": [],
   "source": [
    "# variáveis independentes\n",
    "\n",
    "X = df.iloc[:, 1:]"
   ]
  },
  {
   "cell_type": "code",
   "execution_count": 5,
   "id": "russian-nightmare",
   "metadata": {},
   "outputs": [],
   "source": [
    "# variável dependente\n",
    "\n",
    "y = df.iloc[:, 0]"
   ]
  },
  {
   "cell_type": "code",
   "execution_count": 6,
   "id": "renewable-minute",
   "metadata": {},
   "outputs": [],
   "source": [
    "# podíamos usar 'nao' e 'sim'\n",
    "# mas assim torna-se mais fácil identificar os valores e a respectiva classe nas representações gráficas\n",
    "\n",
    "y.replace(['nao', 'sim'], [0, 1], inplace=True)"
   ]
  },
  {
   "cell_type": "markdown",
   "id": "great-anger",
   "metadata": {},
   "source": [
    "#### 3. Classificação com árvores de decisão"
   ]
  },
  {
   "cell_type": "code",
   "execution_count": 7,
   "id": "italian-intranet",
   "metadata": {},
   "outputs": [],
   "source": [
    "X_train, X_test, y_train, y_test = train_test_split(X, y, test_size = 0.3, random_state = 42)"
   ]
  },
  {
   "cell_type": "code",
   "execution_count": 8,
   "id": "living-cookbook",
   "metadata": {},
   "outputs": [],
   "source": [
    "tree_clf = DecisionTreeClassifier(max_depth = 10, \n",
    "                                  min_samples_leaf = 2, \n",
    "                                  min_samples_split = 10, \n",
    "                                  random_state = 42)"
   ]
  },
  {
   "cell_type": "code",
   "execution_count": 9,
   "id": "reliable-harrison",
   "metadata": {},
   "outputs": [
    {
     "data": {
      "text/plain": [
       "DecisionTreeClassifier(max_depth=10, min_samples_leaf=2, min_samples_split=10,\n",
       "                       random_state=42)"
      ]
     },
     "execution_count": 9,
     "metadata": {},
     "output_type": "execute_result"
    }
   ],
   "source": [
    "tree_clf.fit(X_train, y_train)"
   ]
  },
  {
   "cell_type": "code",
   "execution_count": 10,
   "id": "sensitive-seventh",
   "metadata": {},
   "outputs": [
    {
     "data": {
      "image/png": "[encoded data removed]",
      "text/plain": [
       "<Figure size 1296x432 with 1 Axes>"
      ]
     },
     "metadata": {
      "needs_background": "light"
     },
     "output_type": "display_data"
    }
   ],
   "source": [
    "plt.figure(figsize=(18,6))\n",
    "plot_tree(tree_clf, \n",
    "          feature_names = X.columns, \n",
    "          class_names = ['não comprou', 'comprou'], # nome das classes por ordem numérica ascendente\n",
    "          filled = True, \n",
    "          rounded = True);"
   ]
  },
  {
   "cell_type": "markdown",
   "id": "dramatic-portfolio",
   "metadata": {},
   "source": [
    "#### 4. Prever valores para a classe com o test set"
   ]
  },
  {
   "cell_type": "code",
   "execution_count": 11,
   "id": "undefined-preference",
   "metadata": {},
   "outputs": [],
   "source": [
    "predictions = tree_clf.predict(X_test)"
   ]
  },
  {
   "cell_type": "code",
   "execution_count": 12,
   "id": "purple-collapse",
   "metadata": {},
   "outputs": [
    {
     "data": {
      "text/plain": [
       "array([1, 0, 1, 1, 0, 1, 0, 0, 0, 1, 0, 1, 1, 0, 1, 1, 1, 1, 1, 0, 0, 1,\n",
       "       1], dtype=int64)"
      ]
     },
     "execution_count": 12,
     "metadata": {},
     "output_type": "execute_result"
    }
   ],
   "source": [
    "predictions"
   ]
  },
  {
   "cell_type": "code",
   "execution_count": 13,
   "id": "honey-subscriber",
   "metadata": {},
   "outputs": [
    {
     "data": {
      "text/plain": [
       "array([1, 0, 1, 0, 0, 1, 0, 0, 0, 1, 0, 1, 1, 1, 1, 1, 1, 1, 1, 0, 0, 1,\n",
       "       1], dtype=int64)"
      ]
     },
     "execution_count": 13,
     "metadata": {},
     "output_type": "execute_result"
    }
   ],
   "source": [
    "y_test.values"
   ]
  },
  {
   "cell_type": "markdown",
   "id": "focal-syracuse",
   "metadata": {},
   "source": [
    "As nossas previsões são muito semelhantes aos verdadeiros valores, embora essa previsão não esteja correta em alguns casos.\n",
    "\n",
    "Podemos avaliar o nosso modelo com mais detalhe utilizando a **matriz de confusão** e métricas como ***precision***, ***recall*** e ***F1-score***. Esta última combina as 2 métricas anteriores."
   ]
  },
  {
   "cell_type": "markdown",
   "id": "sized-saturn",
   "metadata": {},
   "source": [
    "#### 5. Avaliação do modelo"
   ]
  },
  {
   "cell_type": "code",
   "execution_count": 14,
   "id": "literary-clearing",
   "metadata": {},
   "outputs": [
    {
     "name": "stdout",
     "output_type": "stream",
     "text": [
      "[[ 8  1]\n",
      " [ 1 13]]\n"
     ]
    }
   ],
   "source": [
    "print(confusion_matrix(y_test, predictions))"
   ]
  },
  {
   "cell_type": "markdown",
   "id": "wound-attribute",
   "metadata": {},
   "source": [
    "Apenas 2 observações foram incorretamente classificadas. Podemos ainda representar esta matriz de confusão graficamente."
   ]
  },
  {
   "cell_type": "code",
   "execution_count": 15,
   "id": "hybrid-effectiveness",
   "metadata": {},
   "outputs": [
    {
     "data": {
      "image/png": "[encoded data removed]",
      "text/plain": [
       "<Figure size 432x288 with 2 Axes>"
      ]
     },
     "metadata": {
      "needs_background": "light"
     },
     "output_type": "display_data"
    }
   ],
   "source": [
    "plot_confusion_matrix(tree_clf, X_test, y_test, display_labels = ['não comprou', 'comprou'], cmap = plt.cm.Blues);"
   ]
  },
  {
   "cell_type": "code",
   "execution_count": 16,
   "id": "actual-display",
   "metadata": {},
   "outputs": [
    {
     "name": "stdout",
     "output_type": "stream",
     "text": [
      "0.9130434782608695\n"
     ]
    }
   ],
   "source": [
    "print(accuracy_score(y_test, predictions))"
   ]
  },
  {
   "cell_type": "code",
   "execution_count": 17,
   "id": "damaged-liberal",
   "metadata": {},
   "outputs": [
    {
     "data": {
      "text/plain": [
       "0.9130434782608695"
      ]
     },
     "execution_count": 17,
     "metadata": {},
     "output_type": "execute_result"
    }
   ],
   "source": [
    "# accuracy\n",
    "\n",
    "(13 + 8) / (13 + 8 + 1 + 1)"
   ]
  },
  {
   "cell_type": "code",
   "execution_count": 18,
   "id": "combined-qatar",
   "metadata": {},
   "outputs": [
    {
     "name": "stdout",
     "output_type": "stream",
     "text": [
      "              precision    recall  f1-score   support\n",
      "\n",
      " não comprou       0.89      0.89      0.89         9\n",
      "     comprou       0.93      0.93      0.93        14\n",
      "\n",
      "    accuracy                           0.91        23\n",
      "   macro avg       0.91      0.91      0.91        23\n",
      "weighted avg       0.91      0.91      0.91        23\n",
      "\n"
     ]
    }
   ],
   "source": [
    "print(classification_report(y_test, predictions, target_names = ['não comprou', 'comprou']))"
   ]
  },
  {
   "cell_type": "markdown",
   "id": "threatened-fabric",
   "metadata": {},
   "source": [
    "#### 6. Classificação para scoring com árvores de decisão"
   ]
  },
  {
   "cell_type": "markdown",
   "id": "right-rebel",
   "metadata": {},
   "source": [
    "Em vez de **prever a classe** de cada observação, podemos também **prever o score** (nestes caso, a probabilidade) associado a cada uma delas.\n",
    "\n",
    "Por defeito, o **valor-limite (*threshold*)** a partir do qual a previsão da classe passa de 0 (não comprou) para 1 (comprou) é 0,5.\n",
    "\n",
    "Voltando ao nosso exemplo, os valores que obtemos para este score são os seguintes:"
   ]
  },
  {
   "cell_type": "code",
   "execution_count": 19,
   "id": "quality-fifth",
   "metadata": {},
   "outputs": [
    {
     "data": {
      "text/plain": [
       "array([[0.        , 1.        ],\n",
       "       [1.        , 0.        ],\n",
       "       [0.        , 1.        ],\n",
       "       [0.        , 1.        ],\n",
       "       [0.85714286, 0.14285714],\n",
       "       [0.        , 1.        ],\n",
       "       [1.        , 0.        ],\n",
       "       [0.85714286, 0.14285714],\n",
       "       [1.        , 0.        ],\n",
       "       [0.        , 1.        ],\n",
       "       [1.        , 0.        ],\n",
       "       [0.        , 1.        ],\n",
       "       [0.        , 1.        ],\n",
       "       [0.85714286, 0.14285714],\n",
       "       [0.        , 1.        ],\n",
       "       [0.        , 1.        ],\n",
       "       [0.        , 1.        ],\n",
       "       [0.        , 1.        ],\n",
       "       [0.        , 1.        ],\n",
       "       [1.        , 0.        ],\n",
       "       [0.85714286, 0.14285714],\n",
       "       [0.        , 1.        ],\n",
       "       [0.        , 1.        ]])"
      ]
     },
     "execution_count": 19,
     "metadata": {},
     "output_type": "execute_result"
    }
   ],
   "source": [
    "tree_clf.predict_proba(X_test)"
   ]
  },
  {
   "cell_type": "markdown",
   "id": "controlling-trash",
   "metadata": {},
   "source": [
    "Mantendo o **valor-limite como 0,5**, obtemos as seguintes previsões para as classes:"
   ]
  },
  {
   "cell_type": "code",
   "execution_count": 20,
   "id": "pregnant-malawi",
   "metadata": {},
   "outputs": [
    {
     "data": {
      "text/plain": [
       "array([1, 0, 1, 1, 0, 1, 0, 0, 0, 1, 0, 1, 1, 0, 1, 1, 1, 1, 1, 0, 0, 1,\n",
       "       1])"
      ]
     },
     "execution_count": 20,
     "metadata": {},
     "output_type": "execute_result"
    }
   ],
   "source": [
    "(tree_clf.predict_proba(X_test)[:, 0] < 0.5).astype(int)"
   ]
  },
  {
   "cell_type": "markdown",
   "id": "passing-unemployment",
   "metadata": {},
   "source": [
    "Como podemos ver, este resultado é igual ao que obtivemos antes:"
   ]
  },
  {
   "cell_type": "code",
   "execution_count": 21,
   "id": "little-multiple",
   "metadata": {},
   "outputs": [
    {
     "data": {
      "text/plain": [
       "array([1, 0, 1, 1, 0, 1, 0, 0, 0, 1, 0, 1, 1, 0, 1, 1, 1, 1, 1, 0, 0, 1,\n",
       "       1], dtype=int64)"
      ]
     },
     "execution_count": 21,
     "metadata": {},
     "output_type": "execute_result"
    }
   ],
   "source": [
    "tree_clf.predict(X_test)"
   ]
  },
  {
   "cell_type": "code",
   "execution_count": 22,
   "id": "stupid-booth",
   "metadata": {},
   "outputs": [
    {
     "data": {
      "text/plain": [
       "14"
      ]
     },
     "execution_count": 22,
     "metadata": {},
     "output_type": "execute_result"
    }
   ],
   "source": [
    "np.count_nonzero(tree_clf.predict(X_test))"
   ]
  },
  {
   "cell_type": "code",
   "execution_count": 23,
   "id": "scenic-valuation",
   "metadata": {},
   "outputs": [
    {
     "data": {
      "text/plain": [
       "9"
      ]
     },
     "execution_count": 23,
     "metadata": {},
     "output_type": "execute_result"
    }
   ],
   "source": [
    "len(tree_clf.predict(X_test)) - np.count_nonzero(tree_clf.predict(X_test))"
   ]
  },
  {
   "cell_type": "markdown",
   "id": "blessed-montgomery",
   "metadata": {},
   "source": [
    "Para 14 das observações a previsão é 1 (comprou) e para 9 é 0 (não comprou)."
   ]
  },
  {
   "cell_type": "markdown",
   "id": "antique-celebration",
   "metadata": {},
   "source": [
    "Uma das coisas que podemos fazer é **variar o valor deste *threshold***. Por exemplo, se quiséssemos obter a classe 0 (não comprou) apenas para valores de probabilidade superior a 0,9:"
   ]
  },
  {
   "cell_type": "code",
   "execution_count": 24,
   "id": "similar-google",
   "metadata": {},
   "outputs": [
    {
     "data": {
      "text/plain": [
       "array([1, 0, 1, 1, 1, 1, 0, 1, 0, 1, 0, 1, 1, 1, 1, 1, 1, 1, 1, 0, 1, 1,\n",
       "       1])"
      ]
     },
     "execution_count": 24,
     "metadata": {},
     "output_type": "execute_result"
    }
   ],
   "source": [
    "(tree_clf.predict_proba(X_test)[:, 0] < 0.9).astype(int)"
   ]
  },
  {
   "cell_type": "code",
   "execution_count": 25,
   "id": "european-illness",
   "metadata": {},
   "outputs": [
    {
     "data": {
      "text/plain": [
       "18"
      ]
     },
     "execution_count": 25,
     "metadata": {},
     "output_type": "execute_result"
    }
   ],
   "source": [
    "# como apenas temos zeros e uns, basta somar para saber quantos uns temos\n",
    "\n",
    "sum((tree_clf.predict_proba(X_test)[:, 0] < 0.9).astype(int))"
   ]
  },
  {
   "cell_type": "markdown",
   "id": "caroline-complex",
   "metadata": {},
   "source": [
    "Desta feita, para 18 das observações a previsão seria 1 (comprou)."
   ]
  },
  {
   "cell_type": "markdown",
   "id": "small-transformation",
   "metadata": {},
   "source": [
    "#### 7. Avaliação do modelo com a curva ROC"
   ]
  },
  {
   "cell_type": "markdown",
   "id": "matched-vietnamese",
   "metadata": {},
   "source": [
    "Outra forma de avaliar o nosso modelo é recorrer à curva ROC, que se baseia na *true positive rate* (TPR) e na *false positive rate* (FPR), que são definidas como:\n",
    "\n",
    "* TPR = TP / (TP + FN)\n",
    "<br><br>\n",
    "* FPR = FP / (FP + TN)"
   ]
  },
  {
   "cell_type": "code",
   "execution_count": 26,
   "id": "secondary-equity",
   "metadata": {},
   "outputs": [],
   "source": [
    "predictions_prob = tree_clf.predict_proba(X_test)"
   ]
  },
  {
   "cell_type": "code",
   "execution_count": 27,
   "id": "postal-transformation",
   "metadata": {},
   "outputs": [
    {
     "data": {
      "image/png": "[encoded data removed]",
      "text/plain": [
       "<Figure size 432x288 with 1 Axes>"
      ]
     },
     "metadata": {
      "needs_background": "light"
     },
     "output_type": "display_data"
    }
   ],
   "source": [
    "fpr, tpr, thresh = roc_curve(y_test, predictions_prob[:, 1])\n",
    "\n",
    "area_uc = auc(fpr, tpr)\n",
    "\n",
    "plt.figure(figsize=(6,4))\n",
    "plt.plot(fpr, tpr)\n",
    "plt.xlabel('False positive rate (1 - specificity)')\n",
    "plt.ylabel('True positive rate (sensitivity)')\n",
    "plt.text(0.5, 0.5, 'AUC:{:.3f}'.format(area_uc))\n",
    "plt.title('ROC Curve');"
   ]
  },
  {
   "cell_type": "markdown",
   "id": "western-valve",
   "metadata": {},
   "source": [
    "Associada à curva ROC, temos a métrica ***area under the curve* (AUC)**, em que o melhor modelo preditivo será aquele que maximize este valor.\n",
    "\n",
    "Uma possível abordagem seria escolher o modelo que maximiza o valor de AUC e, posteriormente, recorrer à sua curva ROC para selecionar o valor mais apropriado do *threshold*, de acordo com os objetivos definidos para o problema em causa."
   ]
  }
 ],
 "metadata": {
  "kernelspec": {
   "display_name": "Python 3",
   "language": "python",
   "name": "python3"
  },
  "language_info": {
   "codemirror_mode": {
    "name": "ipython",
    "version": 3
   },
   "file_extension": ".py",
   "mimetype": "text/x-python",
   "name": "python",
   "nbconvert_exporter": "python",
   "pygments_lexer": "ipython3",
   "version": "3.8.8"
  }
 },
 "nbformat": 4,
 "nbformat_minor": 5
}
